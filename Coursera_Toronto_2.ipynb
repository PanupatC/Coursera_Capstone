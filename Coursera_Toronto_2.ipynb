{
 "metadata": {
  "language_info": {
   "codemirror_mode": {
    "name": "ipython",
    "version": 3
   },
   "file_extension": ".py",
   "mimetype": "text/x-python",
   "name": "python",
   "nbconvert_exporter": "python",
   "pygments_lexer": "ipython3",
   "version": "3.8.2-final"
  },
  "orig_nbformat": 2,
  "kernelspec": {
   "name": "python3",
   "display_name": "Python 3"
  }
 },
 "nbformat": 4,
 "nbformat_minor": 2,
 "cells": [
  {
   "source": [
    "#  Segmenting and Clustering Neighborhoods in Toronto (Part 2)\n",
    "\n",
    "This notebook is part of Applied Data Science Capstone course @Coursera.\n",
    "\n",
    "Data was downloaded and saved to CSV in part 1. Here we simply load the CSV back in."
   ],
   "cell_type": "markdown",
   "metadata": {}
  },
  {
   "cell_type": "code",
   "execution_count": 10,
   "metadata": {},
   "outputs": [
    {
     "output_type": "execute_result",
     "data": {
      "text/plain": [
       "  PostalCode           Borough                                 Neighborhood\n",
       "0        M3A        North York                                    Parkwoods\n",
       "1        M4A        North York                             Victoria Village\n",
       "2        M5A  Downtown Toronto                    Regent Park, Harbourfront\n",
       "3        M6A        North York             Lawrence Manor, Lawrence Heights\n",
       "4        M7A  Downtown Toronto  Queen's Park, Ontario Provincial Government"
      ],
      "text/html": "<div>\n<style scoped>\n    .dataframe tbody tr th:only-of-type {\n        vertical-align: middle;\n    }\n\n    .dataframe tbody tr th {\n        vertical-align: top;\n    }\n\n    .dataframe thead th {\n        text-align: right;\n    }\n</style>\n<table border=\"1\" class=\"dataframe\">\n  <thead>\n    <tr style=\"text-align: right;\">\n      <th></th>\n      <th>PostalCode</th>\n      <th>Borough</th>\n      <th>Neighborhood</th>\n    </tr>\n  </thead>\n  <tbody>\n    <tr>\n      <th>0</th>\n      <td>M3A</td>\n      <td>North York</td>\n      <td>Parkwoods</td>\n    </tr>\n    <tr>\n      <th>1</th>\n      <td>M4A</td>\n      <td>North York</td>\n      <td>Victoria Village</td>\n    </tr>\n    <tr>\n      <th>2</th>\n      <td>M5A</td>\n      <td>Downtown Toronto</td>\n      <td>Regent Park, Harbourfront</td>\n    </tr>\n    <tr>\n      <th>3</th>\n      <td>M6A</td>\n      <td>North York</td>\n      <td>Lawrence Manor, Lawrence Heights</td>\n    </tr>\n    <tr>\n      <th>4</th>\n      <td>M7A</td>\n      <td>Downtown Toronto</td>\n      <td>Queen's Park, Ontario Provincial Government</td>\n    </tr>\n  </tbody>\n</table>\n</div>"
     },
     "metadata": {},
     "execution_count": 10
    }
   ],
   "source": [
    "import pandas as pd\n",
    "df = pd.read_csv('Canada_Postal.csv', index_col=0)\n",
    "df.head()"
   ]
  },
  {
   "cell_type": "code",
   "execution_count": 12,
   "metadata": {},
   "outputs": [
    {
     "output_type": "stream",
     "name": "stdout",
     "text": [
      "M3A\nM4A\nM5A\nM6A\nM7A\nM9A\nM1B\nM3B\nM4B\nM5B\nM6B\nM9B\nM1C\nM3C\nM4C\nM5C\nM6C\nM9C\nM1E\nM4E\nM5E\nM6E\nM1G\nM4G\nM5G\nM6G\nM1H\nM2H\nM3H\nM4H\nM5H\nM6H\nM1J\nM2J\nM3J\nM4J\nM5J\nM6J\nM1K\nM2K\nM3K\nM4K\nM5K\nM6K\nM1L\nM2L\nM3L\nM4L\nM5L\nM6L\nM9L\nM1M\nM2M\nM3M\nM4M\nM5M\nM6M\nM9M\nM1N\nM2N\nM3N\nM4N\nM5N\nM6N\nM9N\nM1P\nM2P\nM4P\nM5P\nM6P\nM9P\nM1R\nM2R\nM4R\nM5R\nM6R\nM7R\nM9R\nM1S\nM4S\nM5S\nM6S\nM1T\nM4T\nM5T\nM1V\nM4V\nM5V\nM8V\nM9V\nM1W\nM4W\nM5W\nM8W\nM9W\nM1X\nM4X\nM5X\nM8X\nM4Y\nM7Y\nM8Y\nM8Z\n"
     ]
    }
   ],
   "source": [
    "for postal in df.PostalCode.values:\n",
    "    print(postal)"
   ]
  },
  {
   "cell_type": "code",
   "execution_count": null,
   "metadata": {},
   "outputs": [],
   "source": []
  }
 ]
}