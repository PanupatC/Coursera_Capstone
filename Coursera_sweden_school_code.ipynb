{
 "metadata": {
  "language_info": {
   "codemirror_mode": {
    "name": "ipython",
    "version": 3
   },
   "file_extension": ".py",
   "mimetype": "text/x-python",
   "name": "python",
   "nbconvert_exporter": "python",
   "pygments_lexer": "ipython3",
   "version": "3.8.2-final"
  },
  "orig_nbformat": 2,
  "kernelspec": {
   "name": "python3",
   "display_name": "Python 3"
  }
 },
 "nbformat": 4,
 "nbformat_minor": 2,
 "cells": [
  {
   "source": [
    "# Coursera: Battle of Neighborhoods \n",
    "\n",
    "This notebook is part of IBM Applied Data Science Capstone project\n",
    "\n",
    "I am interested in exploring schools in Sweden. In this notebook I will attempt to scrape school names and addresses from edarabia, request their coordinates, and explore the area with Foursquare API."
   ],
   "cell_type": "markdown",
   "metadata": {}
  },
  {
   "cell_type": "code",
   "execution_count": null,
   "metadata": {},
   "outputs": [],
   "source": [
    "# get drivers ready for selenium scraping\n",
    "from zipfile import ZipFile\n",
    "import wget\n",
    "\n",
    "wget.download('https://github.com/mozilla/geckodriver/releases/download/v0.27.0/geckodriver-v0.27.0-win64.zip', 'gecko.zip')\n",
    "with ZipFile('gecko.zip', 'r') as z: z.extractall('.')\n",
    "\n",
    "# Note: the file had been downloaded from previous project\n",
    "# so I did not run this code."
   ]
  },
  {
   "cell_type": "code",
   "execution_count": 16,
   "metadata": {},
   "outputs": [],
   "source": [
    "# scrape https://www.edarabia.com/schools/sweden/ for Sweden top schools.\n",
    "from selenium import webdriver\n",
    "\n",
    "driver = webdriver.Firefox(executable_path='geckodriver.exe')\n",
    "driver.get('https://www.edarabia.com/schools/sweden/')"
   ]
  },
  {
   "cell_type": "code",
   "execution_count": 12,
   "metadata": {},
   "outputs": [
    {
     "output_type": "stream",
     "name": "stdout",
     "text": [
      "0 \n1 \n2 \n3 \n4 Bladins International School\n5 Deutsche Schule Stockholm\n6 Engelska Skolan Norr AB\n7 Fryshuset School\n8 International IT College of Sweden\n9 Lycee Francais Saint Louis in Stockholm\n10 ProCivitas Private Gymnasium Stockholm\n11 Swedish Finnish School\n12 The Tanto International School\n13 Thea Private Grundskola\n"
     ]
    }
   ],
   "source": [
    "# Upon inspection, school names are part of a hyperlink under <h5> tags\n",
    "links = driver.find_elements_by_xpath('//h5/a')\n",
    "for i, link in enumerate(links):\n",
    "    print(i, link.text)"
   ]
  },
  {
   "cell_type": "code",
   "execution_count": 14,
   "metadata": {},
   "outputs": [
    {
     "output_type": "execute_result",
     "data": {
      "text/plain": [
       "['Bladins International School',\n",
       " 'Deutsche Schule Stockholm',\n",
       " 'Engelska Skolan Norr AB',\n",
       " 'Fryshuset School',\n",
       " 'International IT College of Sweden',\n",
       " 'Lycee Francais Saint Louis in Stockholm',\n",
       " 'ProCivitas Private Gymnasium Stockholm',\n",
       " 'Swedish Finnish School',\n",
       " 'The Tanto International School',\n",
       " 'Thea Private Grundskola']"
      ]
     },
     "metadata": {},
     "execution_count": 14
    }
   ],
   "source": [
    "# there seem to be empty links, lets remove them\n",
    "schools = [link.text for link in links if link.text]\n",
    "schools"
   ]
  },
  {
   "cell_type": "code",
   "execution_count": 17,
   "metadata": {},
   "outputs": [
    {
     "output_type": "stream",
     "name": "stdout",
     "text": [
      "0 \n",
      "1 Universities\n",
      "2 Schools\n",
      "3 Nurseries\n",
      "4 Courses\n",
      "5 Jobs\n",
      "6 Events\n",
      "7 Login\n",
      "8 \n",
      "9 \n",
      "10 \n",
      "11 \n",
      "12 \n",
      "13 \n",
      "14 \n",
      "15 \n",
      "16 \n",
      "17 \n",
      "18 \n",
      "19 \n",
      "20 \n",
      "21 \n",
      "22 \n",
      "23 \n",
      "24 \n",
      "25 \n",
      "26 \n",
      "27 \n",
      "28 \n",
      "29 \n",
      "30 \n",
      "31 \n",
      "32 \n",
      "33 \n",
      "34 \n",
      "35 \n",
      "36 \n",
      "37 \n",
      "38 \n",
      "39 \n",
      "40 \n",
      "41 \n",
      "42 \n",
      "43 \n",
      "44 \n",
      "45 \n",
      "46 \n",
      "47 \n",
      "48 \n",
      "49 \n",
      "50 \n",
      "51 \n",
      "52 \n",
      "53 \n",
      "54 \n",
      "55 Home\n",
      "56 Schools\n",
      "57 Sweden\n",
      "58 Preschool (förskola)\n",
      "59 Compulsory schooling which is made up of Elementary school (lågstadiet), middle school (mellanstadiet) and junior high school (högstadiet).\n",
      "60 Upper secondary school or senior high school (gymnasium)\n",
      "61 Tertiary education\n",
      "62 \n",
      "63 \n",
      "64 \n",
      "65 \n",
      "66 \n",
      "67 \n",
      "68 \n",
      "69 \n",
      "70 \n",
      "71 \n",
      "72 \n",
      "73 \n",
      "74 \n",
      "75 Address: Sjallandstorget 1\n",
      "76 Curriculum: IB\n",
      "77 SEK 23,500\n",
      "78 Address: Karlavagen 25\n",
      "79 Address: Roslagstullsbacken 4\n",
      "80 Founded: 1993\n",
      "81 Address: Martensdalsgatan 2-8\n",
      "82 Founded: 1984\n",
      "83 Address: Halsobrunnsgatan 6\n",
      "84 Founded: 2003\n",
      "85 Address: Essingestraket 24\n",
      "86 Founded: 1959\n",
      "87 Curriculum: French\n",
      "88 SEK 12,375\n",
      "89 Address: Sandbacksgatan 10\n",
      "90 Address: Ryttargatan 275, Planner\n",
      "91 Address: Flintbacken 20\n",
      "92 Founded: 1983\n",
      "93 SEK 44,600\n",
      "94 Address: Tullgardsgatan 10\n",
      "95 About\n",
      "96 Contacts\n",
      "97 Advertise\n",
      "98 Universities\n",
      "99 Directory\n",
      "100 Jobs\n",
      "101 Tutors\n",
      "102 Schools\n",
      "103 Educational Suppliers\n",
      "104 Events\n",
      "105 Education News\n",
      "106 Nurseries\n",
      "107 Courses\n",
      "108 EdTalk\n"
     ]
    }
   ],
   "source": [
    "# Let's see if we can get their address.\n",
    "address = driver.find_elements_by_xpath('//ul/li')\n",
    "for i, addr in enumerate(address):\n",
    "    print(i, addr.text)"
   ]
  },
  {
   "cell_type": "code",
   "execution_count": null,
   "metadata": {},
   "outputs": [],
   "source": [
    "# That should be all the data needed so let's close the driver\n",
    "driver.close()"
   ]
  },
  {
   "source": [
    "# Looks like the information are available\n",
    "# We can isolate them by looking for string \"Address:\"\n",
    "school_addresses = []\n",
    "for addr in address:\n",
    "    addr = addr.text\n",
    "    if \"Address:\" in addr:\n",
    "        addr.replace('Address: ', '')\n",
    "        # The \", Planner\" in 1 of the addresses is causing problem with geolocation\n",
    "        # so we are removing that\n",
    "        addr = addr.split(',')[0]\n",
    "        school_addresses.append(addr.replace('Address: ', ''))\n",
    "school_addresses\n"
   ],
   "cell_type": "code",
   "metadata": {},
   "execution_count": 25,
   "outputs": [
    {
     "output_type": "execute_result",
     "data": {
      "text/plain": [
       "['Sjallandstorget 1',\n",
       " 'Karlavagen 25',\n",
       " 'Roslagstullsbacken 4',\n",
       " 'Martensdalsgatan 2-8',\n",
       " 'Halsobrunnsgatan 6',\n",
       " 'Essingestraket 24',\n",
       " 'Sandbacksgatan 10',\n",
       " 'Ryttargatan 275',\n",
       " 'Flintbacken 20',\n",
       " 'Tullgardsgatan 10']"
      ]
     },
     "metadata": {},
     "execution_count": 25
    }
   ]
  },
  {
   "cell_type": "code",
   "execution_count": 26,
   "metadata": {},
   "outputs": [
    {
     "output_type": "stream",
     "name": "stdout",
     "text": [
      "10\n10\n"
     ]
    }
   ],
   "source": [
    "# check if we get same number of addresses and schools\n",
    "print(len(schools))\n",
    "print(len(school_addresses))"
   ]
  },
  {
   "cell_type": "code",
   "execution_count": 28,
   "metadata": {},
   "outputs": [],
   "source": [
    "# see if we can get coordinates from address\n",
    "from geopy.geocoders import Nominatim\n",
    "\n",
    "geolocator = Nominatim(user_agent='my_agent')\n",
    "lat = []\n",
    "long = []\n",
    "for addr in school_addresses:\n",
    "    loc = geolocator.geocode(f'{addr}, Sweden')\n",
    "    lat.append(loc.latitude)\n",
    "    long.append(loc.longitude)\n"
   ]
  },
  {
   "cell_type": "code",
   "execution_count": 31,
   "metadata": {},
   "outputs": [
    {
     "output_type": "stream",
     "name": "stdout",
     "text": [
      "10\n10\n"
     ]
    }
   ],
   "source": [
    "# check leng of lat and long\n",
    "print(len(lat))\n",
    "print(len(long))"
   ]
  },
  {
   "cell_type": "code",
   "execution_count": 33,
   "metadata": {},
   "outputs": [
    {
     "output_type": "execute_result",
     "data": {
      "text/plain": [
       "                                    School               Address        Lat  \\\n",
       "0             Bladins International School     Sjallandstorget 1  55.592730   \n",
       "1                Deutsche Schule Stockholm         Karlavagen 25  59.345046   \n",
       "2                  Engelska Skolan Norr AB  Roslagstullsbacken 4  59.350678   \n",
       "3                         Fryshuset School  Martensdalsgatan 2-8  59.300544   \n",
       "4       International IT College of Sweden    Halsobrunnsgatan 6  59.337121   \n",
       "5  Lycee Francais Saint Louis in Stockholm     Essingestraket 24  59.319225   \n",
       "6   ProCivitas Private Gymnasium Stockholm     Sandbacksgatan 10  59.316701   \n",
       "7                   Swedish Finnish School       Ryttargatan 275  59.507273   \n",
       "8           The Tanto International School        Flintbacken 20  59.309693   \n",
       "9                  Thea Private Grundskola     Tullgardsgatan 10  59.305603   \n",
       "\n",
       "        Long  \n",
       "0  12.987777  \n",
       "1  18.063079  \n",
       "2  18.059369  \n",
       "3  18.088212  \n",
       "4  18.047313  \n",
       "5  17.989403  \n",
       "6  18.080628  \n",
       "7  17.907965  \n",
       "8  18.049634  \n",
       "9  18.084816  "
      ],
      "text/html": "<div>\n<style scoped>\n    .dataframe tbody tr th:only-of-type {\n        vertical-align: middle;\n    }\n\n    .dataframe tbody tr th {\n        vertical-align: top;\n    }\n\n    .dataframe thead th {\n        text-align: right;\n    }\n</style>\n<table border=\"1\" class=\"dataframe\">\n  <thead>\n    <tr style=\"text-align: right;\">\n      <th></th>\n      <th>School</th>\n      <th>Address</th>\n      <th>Lat</th>\n      <th>Long</th>\n    </tr>\n  </thead>\n  <tbody>\n    <tr>\n      <th>0</th>\n      <td>Bladins International School</td>\n      <td>Sjallandstorget 1</td>\n      <td>55.592730</td>\n      <td>12.987777</td>\n    </tr>\n    <tr>\n      <th>1</th>\n      <td>Deutsche Schule Stockholm</td>\n      <td>Karlavagen 25</td>\n      <td>59.345046</td>\n      <td>18.063079</td>\n    </tr>\n    <tr>\n      <th>2</th>\n      <td>Engelska Skolan Norr AB</td>\n      <td>Roslagstullsbacken 4</td>\n      <td>59.350678</td>\n      <td>18.059369</td>\n    </tr>\n    <tr>\n      <th>3</th>\n      <td>Fryshuset School</td>\n      <td>Martensdalsgatan 2-8</td>\n      <td>59.300544</td>\n      <td>18.088212</td>\n    </tr>\n    <tr>\n      <th>4</th>\n      <td>International IT College of Sweden</td>\n      <td>Halsobrunnsgatan 6</td>\n      <td>59.337121</td>\n      <td>18.047313</td>\n    </tr>\n    <tr>\n      <th>5</th>\n      <td>Lycee Francais Saint Louis in Stockholm</td>\n      <td>Essingestraket 24</td>\n      <td>59.319225</td>\n      <td>17.989403</td>\n    </tr>\n    <tr>\n      <th>6</th>\n      <td>ProCivitas Private Gymnasium Stockholm</td>\n      <td>Sandbacksgatan 10</td>\n      <td>59.316701</td>\n      <td>18.080628</td>\n    </tr>\n    <tr>\n      <th>7</th>\n      <td>Swedish Finnish School</td>\n      <td>Ryttargatan 275</td>\n      <td>59.507273</td>\n      <td>17.907965</td>\n    </tr>\n    <tr>\n      <th>8</th>\n      <td>The Tanto International School</td>\n      <td>Flintbacken 20</td>\n      <td>59.309693</td>\n      <td>18.049634</td>\n    </tr>\n    <tr>\n      <th>9</th>\n      <td>Thea Private Grundskola</td>\n      <td>Tullgardsgatan 10</td>\n      <td>59.305603</td>\n      <td>18.084816</td>\n    </tr>\n  </tbody>\n</table>\n</div>"
     },
     "metadata": {},
     "execution_count": 33
    }
   ],
   "source": [
    "# All lists contain same number of elements\n",
    "# We can zip them and create dataframe\n",
    "import pandas as pd\n",
    "\n",
    "df = pd.DataFrame(zip(schools, school_addresses, lat, long), columns=['School','Address','Lat','Long'])"
   ]
  },
  {
   "cell_type": "code",
   "execution_count": 10,
   "metadata": {},
   "outputs": [
    {
     "output_type": "execute_result",
     "data": {
      "text/plain": [
       "['Malmoe',\n",
       " 'Stockholm',\n",
       " 'Stockholm',\n",
       " 'Arsta',\n",
       " 'Stockholm',\n",
       " 'Solna',\n",
       " 'Stockholm',\n",
       " 'Upplands Vaesby',\n",
       " 'Arsta',\n",
       " 'OEstermalm']"
      ]
     },
     "metadata": {},
     "execution_count": 10
    }
   ],
   "source": [
    "# let's see if we can get the city name\n",
    "import reverse_geocoder as rg\n",
    "\n",
    "cities = [each['name'] for each in rg.search(list(zip(df['Lat'],df['Long'])))]\n",
    "cities"
   ]
  },
  {
   "cell_type": "code",
   "execution_count": 11,
   "metadata": {},
   "outputs": [
    {
     "output_type": "execute_result",
     "data": {
      "text/plain": [
       "                               School               Address        Lat  \\\n",
       "0        Bladins International School     Sjallandstorget 1  55.592730   \n",
       "1           Deutsche Schule Stockholm         Karlavagen 25  59.345046   \n",
       "2             Engelska Skolan Norr AB  Roslagstullsbacken 4  59.350678   \n",
       "3                    Fryshuset School  Martensdalsgatan 2-8  59.300544   \n",
       "4  International IT College of Sweden    Halsobrunnsgatan 6  59.337121   \n",
       "\n",
       "        Long       City  \n",
       "0  12.987777     Malmoe  \n",
       "1  18.063079  Stockholm  \n",
       "2  18.059369  Stockholm  \n",
       "3  18.088212      Arsta  \n",
       "4  18.047313  Stockholm  "
      ],
      "text/html": "<div>\n<style scoped>\n    .dataframe tbody tr th:only-of-type {\n        vertical-align: middle;\n    }\n\n    .dataframe tbody tr th {\n        vertical-align: top;\n    }\n\n    .dataframe thead th {\n        text-align: right;\n    }\n</style>\n<table border=\"1\" class=\"dataframe\">\n  <thead>\n    <tr style=\"text-align: right;\">\n      <th></th>\n      <th>School</th>\n      <th>Address</th>\n      <th>Lat</th>\n      <th>Long</th>\n      <th>City</th>\n    </tr>\n  </thead>\n  <tbody>\n    <tr>\n      <th>0</th>\n      <td>Bladins International School</td>\n      <td>Sjallandstorget 1</td>\n      <td>55.592730</td>\n      <td>12.987777</td>\n      <td>Malmoe</td>\n    </tr>\n    <tr>\n      <th>1</th>\n      <td>Deutsche Schule Stockholm</td>\n      <td>Karlavagen 25</td>\n      <td>59.345046</td>\n      <td>18.063079</td>\n      <td>Stockholm</td>\n    </tr>\n    <tr>\n      <th>2</th>\n      <td>Engelska Skolan Norr AB</td>\n      <td>Roslagstullsbacken 4</td>\n      <td>59.350678</td>\n      <td>18.059369</td>\n      <td>Stockholm</td>\n    </tr>\n    <tr>\n      <th>3</th>\n      <td>Fryshuset School</td>\n      <td>Martensdalsgatan 2-8</td>\n      <td>59.300544</td>\n      <td>18.088212</td>\n      <td>Arsta</td>\n    </tr>\n    <tr>\n      <th>4</th>\n      <td>International IT College of Sweden</td>\n      <td>Halsobrunnsgatan 6</td>\n      <td>59.337121</td>\n      <td>18.047313</td>\n      <td>Stockholm</td>\n    </tr>\n  </tbody>\n</table>\n</div>"
     },
     "metadata": {},
     "execution_count": 11
    }
   ],
   "source": [
    "# add cities as a column into our df\n",
    "df['City'] = cities\n",
    "df.head()"
   ]
  },
  {
   "cell_type": "code",
   "execution_count": 22,
   "metadata": {},
   "outputs": [],
   "source": [
    "# Save the dataframe for future session\n",
    "df.to_csv('schools_city.csv', index=False)"
   ]
  },
  {
   "cell_type": "code",
   "execution_count": 2,
   "metadata": {},
   "outputs": [
    {
     "output_type": "execute_result",
     "data": {
      "text/plain": [
       "                               School               Address        Lat  \\\n",
       "0        Bladins International School     Sjallandstorget 1  55.592730   \n",
       "1           Deutsche Schule Stockholm         Karlavagen 25  59.345046   \n",
       "2             Engelska Skolan Norr AB  Roslagstullsbacken 4  59.350678   \n",
       "3                    Fryshuset School  Martensdalsgatan 2-8  59.300544   \n",
       "4  International IT College of Sweden    Halsobrunnsgatan 6  59.337121   \n",
       "\n",
       "        Long       City  \n",
       "0  12.987777     Malmoe  \n",
       "1  18.063079  Stockholm  \n",
       "2  18.059369  Stockholm  \n",
       "3  18.088212      Arsta  \n",
       "4  18.047313  Stockholm  "
      ],
      "text/html": "<div>\n<style scoped>\n    .dataframe tbody tr th:only-of-type {\n        vertical-align: middle;\n    }\n\n    .dataframe tbody tr th {\n        vertical-align: top;\n    }\n\n    .dataframe thead th {\n        text-align: right;\n    }\n</style>\n<table border=\"1\" class=\"dataframe\">\n  <thead>\n    <tr style=\"text-align: right;\">\n      <th></th>\n      <th>School</th>\n      <th>Address</th>\n      <th>Lat</th>\n      <th>Long</th>\n      <th>City</th>\n    </tr>\n  </thead>\n  <tbody>\n    <tr>\n      <th>0</th>\n      <td>Bladins International School</td>\n      <td>Sjallandstorget 1</td>\n      <td>55.592730</td>\n      <td>12.987777</td>\n      <td>Malmoe</td>\n    </tr>\n    <tr>\n      <th>1</th>\n      <td>Deutsche Schule Stockholm</td>\n      <td>Karlavagen 25</td>\n      <td>59.345046</td>\n      <td>18.063079</td>\n      <td>Stockholm</td>\n    </tr>\n    <tr>\n      <th>2</th>\n      <td>Engelska Skolan Norr AB</td>\n      <td>Roslagstullsbacken 4</td>\n      <td>59.350678</td>\n      <td>18.059369</td>\n      <td>Stockholm</td>\n    </tr>\n    <tr>\n      <th>3</th>\n      <td>Fryshuset School</td>\n      <td>Martensdalsgatan 2-8</td>\n      <td>59.300544</td>\n      <td>18.088212</td>\n      <td>Arsta</td>\n    </tr>\n    <tr>\n      <th>4</th>\n      <td>International IT College of Sweden</td>\n      <td>Halsobrunnsgatan 6</td>\n      <td>59.337121</td>\n      <td>18.047313</td>\n      <td>Stockholm</td>\n    </tr>\n  </tbody>\n</table>\n</div>"
     },
     "metadata": {},
     "execution_count": 2
    }
   ],
   "source": [
    "import pandas as pd\n",
    "df = pd.read_csv('schools_city.csv')\n",
    "df.head()"
   ]
  },
  {
   "cell_type": "code",
   "execution_count": 19,
   "metadata": {},
   "outputs": [
    {
     "output_type": "execute_result",
     "data": {
      "text/plain": [
       "<folium.folium.Map at 0x1cb4239c100>"
      ],
      "text/html": "<div style=\"width:100%;\"><div style=\"position:relative;width:100%;height:0;padding-bottom:60%;\"><span style=\"color:#565656\">Make this Notebook Trusted to load map: File -> Trust Notebook</span><iframe src=\"about:blank\" style=\"position:absolute;width:100%;height:100%;left:0;top:0;border:none !important;\" data-html=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 onload=\"this.contentDocument.open();this.contentDocument.write(atob(this.getAttribute('data-html')));this.contentDocument.close();\" allowfullscreen webkitallowfullscreen mozallowfullscreen></iframe></div></div>"
     },
     "metadata": {},
     "execution_count": 19
    }
   ],
   "source": [
    "# let's visualize the location with folium\n",
    "import folium\n",
    "\n",
    "\n",
    "latitude = df.Lat.mean()\n",
    "longitude = df.Long.mean()\n",
    "map = folium.Map(location=[latitude, longitude], zoom_start=6)\n",
    "for lat, lng, school in zip(df['Lat'], df['Long'], df['School']):\n",
    "    label = folium.Popup(school, parse_html=True)\n",
    "    folium.CircleMarker(\n",
    "        [lat, lng],\n",
    "        radius=5,\n",
    "        popup=label,\n",
    "        color='blue',\n",
    "        fill=True,\n",
    "        fill_color='#3186cc',\n",
    "        fill_opacity=0.7,\n",
    "        parse_html=False).add_to(map)\n",
    "map"
   ]
  },
  {
   "source": [
    "Most schools are quite close, except for Bladins International School. Let's see what city it is located?"
   ],
   "cell_type": "markdown",
   "metadata": {}
  },
  {
   "cell_type": "code",
   "execution_count": 12,
   "metadata": {},
   "outputs": [
    {
     "output_type": "execute_result",
     "data": {
      "text/plain": [
       "                                    School               Address        Lat  \\\n",
       "1                Deutsche Schule Stockholm         Karlavagen 25  59.345046   \n",
       "2                  Engelska Skolan Norr AB  Roslagstullsbacken 4  59.350678   \n",
       "3                         Fryshuset School  Martensdalsgatan 2-8  59.300544   \n",
       "4       International IT College of Sweden    Halsobrunnsgatan 6  59.337121   \n",
       "5  Lycee Francais Saint Louis in Stockholm     Essingestraket 24  59.319225   \n",
       "6   ProCivitas Private Gymnasium Stockholm     Sandbacksgatan 10  59.316701   \n",
       "8           The Tanto International School        Flintbacken 20  59.309693   \n",
       "9                  Thea Private Grundskola     Tullgardsgatan 10  59.305603   \n",
       "\n",
       "        Long        City  \n",
       "1  18.063079   Stockholm  \n",
       "2  18.059369   Stockholm  \n",
       "3  18.088212       Arsta  \n",
       "4  18.047313   Stockholm  \n",
       "5  17.989403       Solna  \n",
       "6  18.080628   Stockholm  \n",
       "8  18.049634       Arsta  \n",
       "9  18.084816  OEstermalm  "
      ],
      "text/html": "<div>\n<style scoped>\n    .dataframe tbody tr th:only-of-type {\n        vertical-align: middle;\n    }\n\n    .dataframe tbody tr th {\n        vertical-align: top;\n    }\n\n    .dataframe thead th {\n        text-align: right;\n    }\n</style>\n<table border=\"1\" class=\"dataframe\">\n  <thead>\n    <tr style=\"text-align: right;\">\n      <th></th>\n      <th>School</th>\n      <th>Address</th>\n      <th>Lat</th>\n      <th>Long</th>\n      <th>City</th>\n    </tr>\n  </thead>\n  <tbody>\n    <tr>\n      <th>1</th>\n      <td>Deutsche Schule Stockholm</td>\n      <td>Karlavagen 25</td>\n      <td>59.345046</td>\n      <td>18.063079</td>\n      <td>Stockholm</td>\n    </tr>\n    <tr>\n      <th>2</th>\n      <td>Engelska Skolan Norr AB</td>\n      <td>Roslagstullsbacken 4</td>\n      <td>59.350678</td>\n      <td>18.059369</td>\n      <td>Stockholm</td>\n    </tr>\n    <tr>\n      <th>3</th>\n      <td>Fryshuset School</td>\n      <td>Martensdalsgatan 2-8</td>\n      <td>59.300544</td>\n      <td>18.088212</td>\n      <td>Arsta</td>\n    </tr>\n    <tr>\n      <th>4</th>\n      <td>International IT College of Sweden</td>\n      <td>Halsobrunnsgatan 6</td>\n      <td>59.337121</td>\n      <td>18.047313</td>\n      <td>Stockholm</td>\n    </tr>\n    <tr>\n      <th>5</th>\n      <td>Lycee Francais Saint Louis in Stockholm</td>\n      <td>Essingestraket 24</td>\n      <td>59.319225</td>\n      <td>17.989403</td>\n      <td>Solna</td>\n    </tr>\n    <tr>\n      <th>6</th>\n      <td>ProCivitas Private Gymnasium Stockholm</td>\n      <td>Sandbacksgatan 10</td>\n      <td>59.316701</td>\n      <td>18.080628</td>\n      <td>Stockholm</td>\n    </tr>\n    <tr>\n      <th>8</th>\n      <td>The Tanto International School</td>\n      <td>Flintbacken 20</td>\n      <td>59.309693</td>\n      <td>18.049634</td>\n      <td>Arsta</td>\n    </tr>\n    <tr>\n      <th>9</th>\n      <td>Thea Private Grundskola</td>\n      <td>Tullgardsgatan 10</td>\n      <td>59.305603</td>\n      <td>18.084816</td>\n      <td>OEstermalm</td>\n    </tr>\n  </tbody>\n</table>\n</div>"
     },
     "metadata": {},
     "execution_count": 12
    }
   ],
   "source": [
    "# There are 2 schools that are further apart from the others.\n",
    "# May be better to separate them out and visualize on their own\n",
    "df_bladins = df[df['School'] == 'Bladins International School']\n",
    "df_swedish = df[df['School'] == 'Swedish Finnish School']\n",
    "df.drop(df[df.School == 'Bladins International School'].index, inplace=True)\n",
    "df.drop(df[df.School == 'Swedish Finnish School'].index, inplace=True)\n",
    "df"
   ]
  },
  {
   "cell_type": "code",
   "execution_count": null,
   "metadata": {},
   "outputs": [],
   "source": []
  }
 ]
}