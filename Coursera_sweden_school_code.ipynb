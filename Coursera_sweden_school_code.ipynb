{
 "metadata": {
  "language_info": {
   "codemirror_mode": {
    "name": "ipython",
    "version": 3
   },
   "file_extension": ".py",
   "mimetype": "text/x-python",
   "name": "python",
   "nbconvert_exporter": "python",
   "pygments_lexer": "ipython3",
   "version": "3.8.2-final"
  },
  "orig_nbformat": 2,
  "kernelspec": {
   "name": "python3",
   "display_name": "Python 3"
  }
 },
 "nbformat": 4,
 "nbformat_minor": 2,
 "cells": [
  {
   "source": [
    "# Coursera\n",
    "\n",
    "https://www.edarabia.com/schools/sweden/\n",
    "\n",
    "scrape this for school list"
   ],
   "cell_type": "markdown",
   "metadata": {}
  },
  {
   "cell_type": "code",
   "execution_count": null,
   "metadata": {},
   "outputs": [],
   "source": [
    "# get drivers ready for selenium scraping\n",
    "from zipfile import ZipFile\n",
    "import wget\n",
    "\n",
    "wget.download('https://github.com/mozilla/geckodriver/releases/download/v0.27.0/geckodriver-v0.27.0-win64.zip', 'gecko.zip')\n",
    "with ZipFile('gecko.zip', 'r') as z: z.extractall('.')"
   ]
  },
  {
   "cell_type": "code",
   "execution_count": 16,
   "metadata": {},
   "outputs": [],
   "source": [
    "# scrape https://www.edarabia.com/schools/sweden/ for top schools of sweden\n",
    "from selenium import webdriver\n",
    "\n",
    "driver = webdriver.Firefox(executable_path='geckodriver.exe')\n",
    "driver.get('https://www.edarabia.com/schools/sweden/')"
   ]
  },
  {
   "cell_type": "code",
   "execution_count": 12,
   "metadata": {},
   "outputs": [
    {
     "output_type": "stream",
     "name": "stdout",
     "text": [
      "0 \n1 \n2 \n3 \n4 Bladins International School\n5 Deutsche Schule Stockholm\n6 Engelska Skolan Norr AB\n7 Fryshuset School\n8 International IT College of Sweden\n9 Lycee Francais Saint Louis in Stockholm\n10 ProCivitas Private Gymnasium Stockholm\n11 Swedish Finnish School\n12 The Tanto International School\n13 Thea Private Grundskola\n"
     ]
    }
   ],
   "source": [
    "# Upon inspection, school names are part of a hyperlink under <h5> tags\n",
    "links = driver.find_elements_by_xpath('//h5/a')\n",
    "for i, link in enumerate(links):\n",
    "    print(i, link.text)"
   ]
  },
  {
   "cell_type": "code",
   "execution_count": 14,
   "metadata": {},
   "outputs": [
    {
     "output_type": "execute_result",
     "data": {
      "text/plain": [
       "['Bladins International School',\n",
       " 'Deutsche Schule Stockholm',\n",
       " 'Engelska Skolan Norr AB',\n",
       " 'Fryshuset School',\n",
       " 'International IT College of Sweden',\n",
       " 'Lycee Francais Saint Louis in Stockholm',\n",
       " 'ProCivitas Private Gymnasium Stockholm',\n",
       " 'Swedish Finnish School',\n",
       " 'The Tanto International School',\n",
       " 'Thea Private Grundskola']"
      ]
     },
     "metadata": {},
     "execution_count": 14
    }
   ],
   "source": [
    "# there seem to be empty links, lets remove that\n",
    "schools = [link.text for link in links if link.text]\n",
    "schools"
   ]
  },
  {
   "cell_type": "code",
   "execution_count": 17,
   "metadata": {},
   "outputs": [
    {
     "output_type": "stream",
     "name": "stdout",
     "text": [
      "0 \n",
      "1 Universities\n",
      "2 Schools\n",
      "3 Nurseries\n",
      "4 Courses\n",
      "5 Jobs\n",
      "6 Events\n",
      "7 Login\n",
      "8 \n",
      "9 \n",
      "10 \n",
      "11 \n",
      "12 \n",
      "13 \n",
      "14 \n",
      "15 \n",
      "16 \n",
      "17 \n",
      "18 \n",
      "19 \n",
      "20 \n",
      "21 \n",
      "22 \n",
      "23 \n",
      "24 \n",
      "25 \n",
      "26 \n",
      "27 \n",
      "28 \n",
      "29 \n",
      "30 \n",
      "31 \n",
      "32 \n",
      "33 \n",
      "34 \n",
      "35 \n",
      "36 \n",
      "37 \n",
      "38 \n",
      "39 \n",
      "40 \n",
      "41 \n",
      "42 \n",
      "43 \n",
      "44 \n",
      "45 \n",
      "46 \n",
      "47 \n",
      "48 \n",
      "49 \n",
      "50 \n",
      "51 \n",
      "52 \n",
      "53 \n",
      "54 \n",
      "55 Home\n",
      "56 Schools\n",
      "57 Sweden\n",
      "58 Preschool (förskola)\n",
      "59 Compulsory schooling which is made up of Elementary school (lågstadiet), middle school (mellanstadiet) and junior high school (högstadiet).\n",
      "60 Upper secondary school or senior high school (gymnasium)\n",
      "61 Tertiary education\n",
      "62 \n",
      "63 \n",
      "64 \n",
      "65 \n",
      "66 \n",
      "67 \n",
      "68 \n",
      "69 \n",
      "70 \n",
      "71 \n",
      "72 \n",
      "73 \n",
      "74 \n",
      "75 Address: Sjallandstorget 1\n",
      "76 Curriculum: IB\n",
      "77 SEK 23,500\n",
      "78 Address: Karlavagen 25\n",
      "79 Address: Roslagstullsbacken 4\n",
      "80 Founded: 1993\n",
      "81 Address: Martensdalsgatan 2-8\n",
      "82 Founded: 1984\n",
      "83 Address: Halsobrunnsgatan 6\n",
      "84 Founded: 2003\n",
      "85 Address: Essingestraket 24\n",
      "86 Founded: 1959\n",
      "87 Curriculum: French\n",
      "88 SEK 12,375\n",
      "89 Address: Sandbacksgatan 10\n",
      "90 Address: Ryttargatan 275, Planner\n",
      "91 Address: Flintbacken 20\n",
      "92 Founded: 1983\n",
      "93 SEK 44,600\n",
      "94 Address: Tullgardsgatan 10\n",
      "95 About\n",
      "96 Contacts\n",
      "97 Advertise\n",
      "98 Universities\n",
      "99 Directory\n",
      "100 Jobs\n",
      "101 Tutors\n",
      "102 Schools\n",
      "103 Educational Suppliers\n",
      "104 Events\n",
      "105 Education News\n",
      "106 Nurseries\n",
      "107 Courses\n",
      "108 EdTalk\n"
     ]
    }
   ],
   "source": [
    "# let's see if we can get their address.\n",
    "address = driver.find_elements_by_xpath('//ul/li')\n",
    "for i, addr in enumerate(address):\n",
    "    print(i, addr.text)"
   ]
  },
  {
   "source": [
    "# we want one that starts with \"Address:\"\n",
    "school_addresses = []\n",
    "for addr in address:\n",
    "    addr = addr.text\n",
    "    if \"Address:\" in addr:\n",
    "        addr.replace('Address: ', '')\n",
    "        # the , Planner in 1 of the address is causing problem with geolocation\n",
    "        addr = addr.split(',')[0]\n",
    "        school_addresses.append(addr.replace('Address: ', ''))\n",
    "school_addresses\n"
   ],
   "cell_type": "code",
   "metadata": {},
   "execution_count": 25,
   "outputs": [
    {
     "output_type": "execute_result",
     "data": {
      "text/plain": [
       "['Sjallandstorget 1',\n",
       " 'Karlavagen 25',\n",
       " 'Roslagstullsbacken 4',\n",
       " 'Martensdalsgatan 2-8',\n",
       " 'Halsobrunnsgatan 6',\n",
       " 'Essingestraket 24',\n",
       " 'Sandbacksgatan 10',\n",
       " 'Ryttargatan 275',\n",
       " 'Flintbacken 20',\n",
       " 'Tullgardsgatan 10']"
      ]
     },
     "metadata": {},
     "execution_count": 25
    }
   ]
  },
  {
   "cell_type": "code",
   "execution_count": 26,
   "metadata": {},
   "outputs": [
    {
     "output_type": "stream",
     "name": "stdout",
     "text": [
      "10\n10\n"
     ]
    }
   ],
   "source": [
    "# check if we get same number of addresses and schools\n",
    "print(len(schools))\n",
    "print(len(school_addresses))"
   ]
  },
  {
   "cell_type": "code",
   "execution_count": 28,
   "metadata": {},
   "outputs": [],
   "source": [
    "# see if we can get coordinates from address\n",
    "from geopy.geocoders import Nominatim\n",
    "\n",
    "geolocator = Nominatim(user_agent='my_agent')\n",
    "lat = []\n",
    "long = []\n",
    "for addr in school_addresses:\n",
    "    loc = geolocator.geocode(f'{addr}, Sweden')\n",
    "    lat.append(loc.latitude)\n",
    "    long.append(loc.longitude)\n"
   ]
  },
  {
   "cell_type": "code",
   "execution_count": 31,
   "metadata": {},
   "outputs": [
    {
     "output_type": "stream",
     "name": "stdout",
     "text": [
      "10\n10\n"
     ]
    }
   ],
   "source": [
    "# check leng of lat and long\n",
    "print(len(lat))\n",
    "print(len(long))"
   ]
  },
  {
   "cell_type": "code",
   "execution_count": 33,
   "metadata": {},
   "outputs": [
    {
     "output_type": "execute_result",
     "data": {
      "text/plain": [
       "                                    School               Address        Lat  \\\n",
       "0             Bladins International School     Sjallandstorget 1  55.592730   \n",
       "1                Deutsche Schule Stockholm         Karlavagen 25  59.345046   \n",
       "2                  Engelska Skolan Norr AB  Roslagstullsbacken 4  59.350678   \n",
       "3                         Fryshuset School  Martensdalsgatan 2-8  59.300544   \n",
       "4       International IT College of Sweden    Halsobrunnsgatan 6  59.337121   \n",
       "5  Lycee Francais Saint Louis in Stockholm     Essingestraket 24  59.319225   \n",
       "6   ProCivitas Private Gymnasium Stockholm     Sandbacksgatan 10  59.316701   \n",
       "7                   Swedish Finnish School       Ryttargatan 275  59.507273   \n",
       "8           The Tanto International School        Flintbacken 20  59.309693   \n",
       "9                  Thea Private Grundskola     Tullgardsgatan 10  59.305603   \n",
       "\n",
       "        Long  \n",
       "0  12.987777  \n",
       "1  18.063079  \n",
       "2  18.059369  \n",
       "3  18.088212  \n",
       "4  18.047313  \n",
       "5  17.989403  \n",
       "6  18.080628  \n",
       "7  17.907965  \n",
       "8  18.049634  \n",
       "9  18.084816  "
      ],
      "text/html": "<div>\n<style scoped>\n    .dataframe tbody tr th:only-of-type {\n        vertical-align: middle;\n    }\n\n    .dataframe tbody tr th {\n        vertical-align: top;\n    }\n\n    .dataframe thead th {\n        text-align: right;\n    }\n</style>\n<table border=\"1\" class=\"dataframe\">\n  <thead>\n    <tr style=\"text-align: right;\">\n      <th></th>\n      <th>School</th>\n      <th>Address</th>\n      <th>Lat</th>\n      <th>Long</th>\n    </tr>\n  </thead>\n  <tbody>\n    <tr>\n      <th>0</th>\n      <td>Bladins International School</td>\n      <td>Sjallandstorget 1</td>\n      <td>55.592730</td>\n      <td>12.987777</td>\n    </tr>\n    <tr>\n      <th>1</th>\n      <td>Deutsche Schule Stockholm</td>\n      <td>Karlavagen 25</td>\n      <td>59.345046</td>\n      <td>18.063079</td>\n    </tr>\n    <tr>\n      <th>2</th>\n      <td>Engelska Skolan Norr AB</td>\n      <td>Roslagstullsbacken 4</td>\n      <td>59.350678</td>\n      <td>18.059369</td>\n    </tr>\n    <tr>\n      <th>3</th>\n      <td>Fryshuset School</td>\n      <td>Martensdalsgatan 2-8</td>\n      <td>59.300544</td>\n      <td>18.088212</td>\n    </tr>\n    <tr>\n      <th>4</th>\n      <td>International IT College of Sweden</td>\n      <td>Halsobrunnsgatan 6</td>\n      <td>59.337121</td>\n      <td>18.047313</td>\n    </tr>\n    <tr>\n      <th>5</th>\n      <td>Lycee Francais Saint Louis in Stockholm</td>\n      <td>Essingestraket 24</td>\n      <td>59.319225</td>\n      <td>17.989403</td>\n    </tr>\n    <tr>\n      <th>6</th>\n      <td>ProCivitas Private Gymnasium Stockholm</td>\n      <td>Sandbacksgatan 10</td>\n      <td>59.316701</td>\n      <td>18.080628</td>\n    </tr>\n    <tr>\n      <th>7</th>\n      <td>Swedish Finnish School</td>\n      <td>Ryttargatan 275</td>\n      <td>59.507273</td>\n      <td>17.907965</td>\n    </tr>\n    <tr>\n      <th>8</th>\n      <td>The Tanto International School</td>\n      <td>Flintbacken 20</td>\n      <td>59.309693</td>\n      <td>18.049634</td>\n    </tr>\n    <tr>\n      <th>9</th>\n      <td>Thea Private Grundskola</td>\n      <td>Tullgardsgatan 10</td>\n      <td>59.305603</td>\n      <td>18.084816</td>\n    </tr>\n  </tbody>\n</table>\n</div>"
     },
     "metadata": {},
     "execution_count": 33
    }
   ],
   "source": [
    "# all the list seem correct. let's make this into a dataframe\n",
    "import pandas as pd\n",
    "\n",
    "df = pd.DataFrame(zip(schools, school_addresses, lat, long), columns=['School','Address','Lat','Long'])\n",
    "df"
   ]
  },
  {
   "cell_type": "code",
   "execution_count": null,
   "metadata": {},
   "outputs": [],
   "source": [
    "# looking perfect. Let's save this into csv so we can continue working without having to re-scrape\n",
    "df.to_csv('schools.csv', index=False)"
   ]
  }
 ]
}