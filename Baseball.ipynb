{
 "metadata": {
  "language_info": {
   "codemirror_mode": {
    "name": "ipython",
    "version": 3
   },
   "file_extension": ".py",
   "mimetype": "text/x-python",
   "name": "python",
   "nbconvert_exporter": "python",
   "pygments_lexer": "ipython3",
   "version": "3.8.2-final"
  },
  "orig_nbformat": 2,
  "kernelspec": {
   "name": "python3",
   "display_name": "Python 3",
   "language": "python"
  }
 },
 "nbformat": 4,
 "nbformat_minor": 2,
 "cells": [
  {
   "cell_type": "code",
   "execution_count": 19,
   "metadata": {},
   "outputs": [],
   "source": [
    "import pandas as pd\r\n",
    "import numpy as np"
   ]
  },
  {
   "cell_type": "code",
   "execution_count": 29,
   "metadata": {},
   "outputs": [
    {
     "output_type": "execute_result",
     "data": {
      "text/plain": [
       "   AtBat  Hits  HmRun  Runs  RBI  Walks  Years  CAtBat  CHits  CHmRun  CRuns  \\\n",
       "0    315    81      7    24   38     39     14    3449    835      69    321   \n",
       "1    479   130     18    66   72     76      3    1624    457      63    224   \n",
       "\n",
       "   CRBI  CWalks League  PutOuts  Assists  Errors  Salary  \n",
       "0   414     375      N      632       43      10   475.0  \n",
       "1   266     263      A      880       82      14   480.0  "
      ],
      "text/html": "<div>\n<style scoped>\n    .dataframe tbody tr th:only-of-type {\n        vertical-align: middle;\n    }\n\n    .dataframe tbody tr th {\n        vertical-align: top;\n    }\n\n    .dataframe thead th {\n        text-align: right;\n    }\n</style>\n<table border=\"1\" class=\"dataframe\">\n  <thead>\n    <tr style=\"text-align: right;\">\n      <th></th>\n      <th>AtBat</th>\n      <th>Hits</th>\n      <th>HmRun</th>\n      <th>Runs</th>\n      <th>RBI</th>\n      <th>Walks</th>\n      <th>Years</th>\n      <th>CAtBat</th>\n      <th>CHits</th>\n      <th>CHmRun</th>\n      <th>CRuns</th>\n      <th>CRBI</th>\n      <th>CWalks</th>\n      <th>League</th>\n      <th>PutOuts</th>\n      <th>Assists</th>\n      <th>Errors</th>\n      <th>Salary</th>\n    </tr>\n  </thead>\n  <tbody>\n    <tr>\n      <th>0</th>\n      <td>315</td>\n      <td>81</td>\n      <td>7</td>\n      <td>24</td>\n      <td>38</td>\n      <td>39</td>\n      <td>14</td>\n      <td>3449</td>\n      <td>835</td>\n      <td>69</td>\n      <td>321</td>\n      <td>414</td>\n      <td>375</td>\n      <td>N</td>\n      <td>632</td>\n      <td>43</td>\n      <td>10</td>\n      <td>475.0</td>\n    </tr>\n    <tr>\n      <th>1</th>\n      <td>479</td>\n      <td>130</td>\n      <td>18</td>\n      <td>66</td>\n      <td>72</td>\n      <td>76</td>\n      <td>3</td>\n      <td>1624</td>\n      <td>457</td>\n      <td>63</td>\n      <td>224</td>\n      <td>266</td>\n      <td>263</td>\n      <td>A</td>\n      <td>880</td>\n      <td>82</td>\n      <td>14</td>\n      <td>480.0</td>\n    </tr>\n  </tbody>\n</table>\n</div>"
     },
     "metadata": {},
     "execution_count": 29
    }
   ],
   "source": [
    "df = pd.read_csv('Baseball.csv')\n",
    "df.head(2)"
   ]
  },
  {
   "source": [
    "I guess you wanted to exclude _Leage_ column since it contains string? We can manual ofc but let's not do that. Instead we can use dtypes"
   ],
   "cell_type": "markdown",
   "metadata": {}
  },
  {
   "cell_type": "code",
   "execution_count": 7,
   "metadata": {},
   "outputs": [
    {
     "output_type": "execute_result",
     "data": {
      "text/plain": [
       "AtBat        int64\n",
       "Hits         int64\n",
       "HmRun        int64\n",
       "Runs         int64\n",
       "RBI          int64\n",
       "Walks        int64\n",
       "Years        int64\n",
       "CAtBat       int64\n",
       "CHits        int64\n",
       "CHmRun       int64\n",
       "CRuns        int64\n",
       "CRBI         int64\n",
       "CWalks       int64\n",
       "League      object\n",
       "PutOuts      int64\n",
       "Assists      int64\n",
       "Errors       int64\n",
       "Salary     float64\n",
       "dtype: object"
      ]
     },
     "metadata": {},
     "execution_count": 7
    }
   ],
   "source": [
    "# example what dtypes look like\n",
    "df.dtypes"
   ]
  },
  {
   "source": [
    "# we can check them like this\n",
    "df['Runs'].dtype == 'int64'"
   ],
   "cell_type": "code",
   "metadata": {},
   "execution_count": 8,
   "outputs": [
    {
     "output_type": "execute_result",
     "data": {
      "text/plain": [
       "True"
      ]
     },
     "metadata": {},
     "execution_count": 8
    }
   ]
  },
  {
   "cell_type": "code",
   "execution_count": 11,
   "metadata": {},
   "outputs": [
    {
     "output_type": "stream",
     "name": "stdout",
     "text": [
      "skip column: League\n"
     ]
    }
   ],
   "source": [
    "# So we loop columns and check their dtypes like so. We want to skip dtype \"object\"\n",
    "for col in df.columns:\n",
    "    if df[col].dtype == 'object':\n",
    "        print('skip column:', col)\n",
    "        continue\n",
    "    else:\n",
    "        # find outlier and do stuff\n",
    "        pass"
   ]
  },
  {
   "source": [
    "I'm not too clear how your equation worked in `get_outlier_minmax` , so I'm applying simpler solution for demonstration purpose. I first replaced all outlier with `NaN` which can then be easily replaced all at once with `fillna`"
   ],
   "cell_type": "markdown",
   "metadata": {}
  },
  {
   "cell_type": "code",
   "execution_count": 27,
   "metadata": {},
   "outputs": [],
   "source": [
    "for col in df.columns:\n",
    "    if df[col].dtype == 'object':\n",
    "        continue\n",
    "    else:\n",
    "        median = df[col].median()\n",
    "        std = df[col].std()\n",
    "        \n",
    "        # this gives a tuple representing each row (False, False, True, etc)\n",
    "        # where True is the row that contains outlier\n",
    "        outliers = (df[col] - median).abs() > std\n",
    "        # then fill the True rows with NaN\n",
    "        df[col][outliers] = np.nan\n",
    "        "
   ]
  },
  {
   "cell_type": "code",
   "execution_count": 32,
   "metadata": {},
   "outputs": [
    {
     "output_type": "execute_result",
     "data": {
      "text/plain": [
       "   AtBat   Hits  HmRun  Runs   RBI  Walks  Years  CAtBat   CHits  CHmRun  \\\n",
       "0  315.0   81.0    7.0   NaN  38.0   39.0    NaN  3449.0   835.0    69.0   \n",
       "1  479.0  130.0    NaN  66.0  72.0    NaN    3.0  1624.0   457.0    63.0   \n",
       "2  496.0  141.0    NaN  65.0   NaN   37.0    NaN     NaN     NaN     NaN   \n",
       "3  321.0   87.0   10.0  39.0  42.0   30.0    2.0   396.0   101.0    12.0   \n",
       "4    NaN    NaN    4.0  74.0  51.0   35.0    NaN     NaN  1133.0    19.0   \n",
       "5    NaN    NaN    1.0   NaN   NaN   21.0    2.0   214.0    42.0     1.0   \n",
       "6  298.0   73.0    NaN   NaN  24.0    NaN    3.0   509.0   108.0     0.0   \n",
       "7  323.0   81.0    6.0   NaN  32.0    NaN    2.0   341.0    86.0     6.0   \n",
       "8  401.0   92.0   17.0  49.0  66.0    NaN    NaN     NaN     NaN     NaN   \n",
       "9    NaN    NaN    NaN   NaN   NaN    NaN   10.0     NaN     NaN    90.0   \n",
       "\n",
       "   CRuns   CRBI  CWalks League  PutOuts  Assists  Errors   Salary  \n",
       "0  321.0  414.0   375.0      N      NaN     43.0    10.0  475.000  \n",
       "1  224.0  266.0   263.0      A      NaN     82.0     NaN  480.000  \n",
       "2    NaN    NaN   354.0      N    200.0     11.0     3.0  500.000  \n",
       "3   48.0   46.0    33.0      N      NaN     40.0     4.0   91.500  \n",
       "4  501.0  336.0   194.0      A    282.0      NaN     NaN  750.000  \n",
       "5   30.0    9.0    24.0      N     76.0    127.0     7.0   70.000  \n",
       "6   41.0   37.0    12.0      A    121.0      NaN     9.0  100.000  \n",
       "7   32.0   34.0     8.0      N    143.0      NaN     NaN   75.000  \n",
       "8    NaN    NaN     NaN      A      0.0      0.0     NaN      NaN  \n",
       "9    NaN  504.0     NaN      A    238.0      NaN     NaN  517.143  "
      ],
      "text/html": "<div>\n<style scoped>\n    .dataframe tbody tr th:only-of-type {\n        vertical-align: middle;\n    }\n\n    .dataframe tbody tr th {\n        vertical-align: top;\n    }\n\n    .dataframe thead th {\n        text-align: right;\n    }\n</style>\n<table border=\"1\" class=\"dataframe\">\n  <thead>\n    <tr style=\"text-align: right;\">\n      <th></th>\n      <th>AtBat</th>\n      <th>Hits</th>\n      <th>HmRun</th>\n      <th>Runs</th>\n      <th>RBI</th>\n      <th>Walks</th>\n      <th>Years</th>\n      <th>CAtBat</th>\n      <th>CHits</th>\n      <th>CHmRun</th>\n      <th>CRuns</th>\n      <th>CRBI</th>\n      <th>CWalks</th>\n      <th>League</th>\n      <th>PutOuts</th>\n      <th>Assists</th>\n      <th>Errors</th>\n      <th>Salary</th>\n    </tr>\n  </thead>\n  <tbody>\n    <tr>\n      <th>0</th>\n      <td>315.0</td>\n      <td>81.0</td>\n      <td>7.0</td>\n      <td>NaN</td>\n      <td>38.0</td>\n      <td>39.0</td>\n      <td>NaN</td>\n      <td>3449.0</td>\n      <td>835.0</td>\n      <td>69.0</td>\n      <td>321.0</td>\n      <td>414.0</td>\n      <td>375.0</td>\n      <td>N</td>\n      <td>NaN</td>\n      <td>43.0</td>\n      <td>10.0</td>\n      <td>475.000</td>\n    </tr>\n    <tr>\n      <th>1</th>\n      <td>479.0</td>\n      <td>130.0</td>\n      <td>NaN</td>\n      <td>66.0</td>\n      <td>72.0</td>\n      <td>NaN</td>\n      <td>3.0</td>\n      <td>1624.0</td>\n      <td>457.0</td>\n      <td>63.0</td>\n      <td>224.0</td>\n      <td>266.0</td>\n      <td>263.0</td>\n      <td>A</td>\n      <td>NaN</td>\n      <td>82.0</td>\n      <td>NaN</td>\n      <td>480.000</td>\n    </tr>\n    <tr>\n      <th>2</th>\n      <td>496.0</td>\n      <td>141.0</td>\n      <td>NaN</td>\n      <td>65.0</td>\n      <td>NaN</td>\n      <td>37.0</td>\n      <td>NaN</td>\n      <td>NaN</td>\n      <td>NaN</td>\n      <td>NaN</td>\n      <td>NaN</td>\n      <td>NaN</td>\n      <td>354.0</td>\n      <td>N</td>\n      <td>200.0</td>\n      <td>11.0</td>\n      <td>3.0</td>\n      <td>500.000</td>\n    </tr>\n    <tr>\n      <th>3</th>\n      <td>321.0</td>\n      <td>87.0</td>\n      <td>10.0</td>\n      <td>39.0</td>\n      <td>42.0</td>\n      <td>30.0</td>\n      <td>2.0</td>\n      <td>396.0</td>\n      <td>101.0</td>\n      <td>12.0</td>\n      <td>48.0</td>\n      <td>46.0</td>\n      <td>33.0</td>\n      <td>N</td>\n      <td>NaN</td>\n      <td>40.0</td>\n      <td>4.0</td>\n      <td>91.500</td>\n    </tr>\n    <tr>\n      <th>4</th>\n      <td>NaN</td>\n      <td>NaN</td>\n      <td>4.0</td>\n      <td>74.0</td>\n      <td>51.0</td>\n      <td>35.0</td>\n      <td>NaN</td>\n      <td>NaN</td>\n      <td>1133.0</td>\n      <td>19.0</td>\n      <td>501.0</td>\n      <td>336.0</td>\n      <td>194.0</td>\n      <td>A</td>\n      <td>282.0</td>\n      <td>NaN</td>\n      <td>NaN</td>\n      <td>750.000</td>\n    </tr>\n    <tr>\n      <th>5</th>\n      <td>NaN</td>\n      <td>NaN</td>\n      <td>1.0</td>\n      <td>NaN</td>\n      <td>NaN</td>\n      <td>21.0</td>\n      <td>2.0</td>\n      <td>214.0</td>\n      <td>42.0</td>\n      <td>1.0</td>\n      <td>30.0</td>\n      <td>9.0</td>\n      <td>24.0</td>\n      <td>N</td>\n      <td>76.0</td>\n      <td>127.0</td>\n      <td>7.0</td>\n      <td>70.000</td>\n    </tr>\n    <tr>\n      <th>6</th>\n      <td>298.0</td>\n      <td>73.0</td>\n      <td>NaN</td>\n      <td>NaN</td>\n      <td>24.0</td>\n      <td>NaN</td>\n      <td>3.0</td>\n      <td>509.0</td>\n      <td>108.0</td>\n      <td>0.0</td>\n      <td>41.0</td>\n      <td>37.0</td>\n      <td>12.0</td>\n      <td>A</td>\n      <td>121.0</td>\n      <td>NaN</td>\n      <td>9.0</td>\n      <td>100.000</td>\n    </tr>\n    <tr>\n      <th>7</th>\n      <td>323.0</td>\n      <td>81.0</td>\n      <td>6.0</td>\n      <td>NaN</td>\n      <td>32.0</td>\n      <td>NaN</td>\n      <td>2.0</td>\n      <td>341.0</td>\n      <td>86.0</td>\n      <td>6.0</td>\n      <td>32.0</td>\n      <td>34.0</td>\n      <td>8.0</td>\n      <td>N</td>\n      <td>143.0</td>\n      <td>NaN</td>\n      <td>NaN</td>\n      <td>75.000</td>\n    </tr>\n    <tr>\n      <th>8</th>\n      <td>401.0</td>\n      <td>92.0</td>\n      <td>17.0</td>\n      <td>49.0</td>\n      <td>66.0</td>\n      <td>NaN</td>\n      <td>NaN</td>\n      <td>NaN</td>\n      <td>NaN</td>\n      <td>NaN</td>\n      <td>NaN</td>\n      <td>NaN</td>\n      <td>NaN</td>\n      <td>A</td>\n      <td>0.0</td>\n      <td>0.0</td>\n      <td>NaN</td>\n      <td>NaN</td>\n    </tr>\n    <tr>\n      <th>9</th>\n      <td>NaN</td>\n      <td>NaN</td>\n      <td>NaN</td>\n      <td>NaN</td>\n      <td>NaN</td>\n      <td>NaN</td>\n      <td>10.0</td>\n      <td>NaN</td>\n      <td>NaN</td>\n      <td>90.0</td>\n      <td>NaN</td>\n      <td>504.0</td>\n      <td>NaN</td>\n      <td>A</td>\n      <td>238.0</td>\n      <td>NaN</td>\n      <td>NaN</td>\n      <td>517.143</td>\n    </tr>\n  </tbody>\n</table>\n</div>"
     },
     "metadata": {},
     "execution_count": 32
    }
   ],
   "source": [
    "df.head(10)"
   ]
  },
  {
   "source": [
    "Now you just need to add this line to the code above to fill those NaN with median\n",
    "\n",
    "`df[col].fillna(median, inplace=True)`\n",
    "\n",
    "I'll reload the dataframe and run it fully below."
   ],
   "cell_type": "markdown",
   "metadata": {}
  },
  {
   "cell_type": "code",
   "execution_count": 33,
   "metadata": {},
   "outputs": [],
   "source": [
    "df = pd.read_csv('Baseball.csv')\n",
    "\n",
    "for col in df.columns:\n",
    "    if df[col].dtype == 'object':\n",
    "        continue\n",
    "    else:\n",
    "        median = df[col].median()\n",
    "        std = df[col].std()\n",
    "        outliers = (df[col] - median).abs() > std\n",
    "        df[col][outliers] = np.nan\n",
    "        df[col].fillna(median, inplace=True)  # <-- added\n"
   ]
  },
  {
   "cell_type": "code",
   "execution_count": 34,
   "metadata": {},
   "outputs": [
    {
     "output_type": "execute_result",
     "data": {
      "text/plain": [
       "   AtBat   Hits  HmRun  Runs   RBI  Walks  Years  CAtBat   CHits  CHmRun  \\\n",
       "0  315.0   81.0    7.0  52.5  38.0   39.0    6.0  3449.0   835.0    69.0   \n",
       "1  479.0  130.0    9.0  66.0  72.0   37.0    3.0  1624.0   457.0    63.0   \n",
       "2  496.0  141.0    9.0  65.0  47.0   37.0    6.0  1936.0   517.5    40.0   \n",
       "3  321.0   87.0   10.0  39.0  42.0   30.0    2.0   396.0   101.0    12.0   \n",
       "4  414.0  103.5    4.0  74.0  51.0   35.0    6.0  1936.0  1133.0    19.0   \n",
       "5  414.0  103.5    1.0  52.5  47.0   21.0    2.0   214.0    42.0     1.0   \n",
       "6  298.0   73.0    9.0  52.5  24.0   37.0    3.0   509.0   108.0     0.0   \n",
       "7  323.0   81.0    6.0  52.5  32.0   37.0    2.0   341.0    86.0     6.0   \n",
       "8  401.0   92.0   17.0  49.0  66.0   37.0    6.0  1936.0   517.5    40.0   \n",
       "9  414.0  103.5    9.0  52.5  47.0   37.0   10.0  1936.0   517.5    90.0   \n",
       "\n",
       "   CRuns   CRBI  CWalks League  PutOuts  Assists  Errors   Salary  \n",
       "0  321.0  414.0   375.0      N    223.0     43.0    10.0  475.000  \n",
       "1  224.0  266.0   263.0      A    223.0     82.0     7.0  480.000  \n",
       "2  256.0  239.5   354.0      N    200.0     11.0     3.0  500.000  \n",
       "3   48.0   46.0    33.0      N    223.0     40.0     4.0   91.500  \n",
       "4  501.0  336.0   194.0      A    282.0     45.0     7.0  750.000  \n",
       "5   30.0    9.0    24.0      N     76.0    127.0     7.0   70.000  \n",
       "6   41.0   37.0    12.0      A    121.0     45.0     9.0  100.000  \n",
       "7   32.0   34.0     8.0      N    143.0     45.0     7.0   75.000  \n",
       "8  256.0  239.5   174.0      A      0.0      0.0     7.0  422.500  \n",
       "9  256.0  504.0   174.0      A    238.0     45.0     7.0  517.143  "
      ],
      "text/html": "<div>\n<style scoped>\n    .dataframe tbody tr th:only-of-type {\n        vertical-align: middle;\n    }\n\n    .dataframe tbody tr th {\n        vertical-align: top;\n    }\n\n    .dataframe thead th {\n        text-align: right;\n    }\n</style>\n<table border=\"1\" class=\"dataframe\">\n  <thead>\n    <tr style=\"text-align: right;\">\n      <th></th>\n      <th>AtBat</th>\n      <th>Hits</th>\n      <th>HmRun</th>\n      <th>Runs</th>\n      <th>RBI</th>\n      <th>Walks</th>\n      <th>Years</th>\n      <th>CAtBat</th>\n      <th>CHits</th>\n      <th>CHmRun</th>\n      <th>CRuns</th>\n      <th>CRBI</th>\n      <th>CWalks</th>\n      <th>League</th>\n      <th>PutOuts</th>\n      <th>Assists</th>\n      <th>Errors</th>\n      <th>Salary</th>\n    </tr>\n  </thead>\n  <tbody>\n    <tr>\n      <th>0</th>\n      <td>315.0</td>\n      <td>81.0</td>\n      <td>7.0</td>\n      <td>52.5</td>\n      <td>38.0</td>\n      <td>39.0</td>\n      <td>6.0</td>\n      <td>3449.0</td>\n      <td>835.0</td>\n      <td>69.0</td>\n      <td>321.0</td>\n      <td>414.0</td>\n      <td>375.0</td>\n      <td>N</td>\n      <td>223.0</td>\n      <td>43.0</td>\n      <td>10.0</td>\n      <td>475.000</td>\n    </tr>\n    <tr>\n      <th>1</th>\n      <td>479.0</td>\n      <td>130.0</td>\n      <td>9.0</td>\n      <td>66.0</td>\n      <td>72.0</td>\n      <td>37.0</td>\n      <td>3.0</td>\n      <td>1624.0</td>\n      <td>457.0</td>\n      <td>63.0</td>\n      <td>224.0</td>\n      <td>266.0</td>\n      <td>263.0</td>\n      <td>A</td>\n      <td>223.0</td>\n      <td>82.0</td>\n      <td>7.0</td>\n      <td>480.000</td>\n    </tr>\n    <tr>\n      <th>2</th>\n      <td>496.0</td>\n      <td>141.0</td>\n      <td>9.0</td>\n      <td>65.0</td>\n      <td>47.0</td>\n      <td>37.0</td>\n      <td>6.0</td>\n      <td>1936.0</td>\n      <td>517.5</td>\n      <td>40.0</td>\n      <td>256.0</td>\n      <td>239.5</td>\n      <td>354.0</td>\n      <td>N</td>\n      <td>200.0</td>\n      <td>11.0</td>\n      <td>3.0</td>\n      <td>500.000</td>\n    </tr>\n    <tr>\n      <th>3</th>\n      <td>321.0</td>\n      <td>87.0</td>\n      <td>10.0</td>\n      <td>39.0</td>\n      <td>42.0</td>\n      <td>30.0</td>\n      <td>2.0</td>\n      <td>396.0</td>\n      <td>101.0</td>\n      <td>12.0</td>\n      <td>48.0</td>\n      <td>46.0</td>\n      <td>33.0</td>\n      <td>N</td>\n      <td>223.0</td>\n      <td>40.0</td>\n      <td>4.0</td>\n      <td>91.500</td>\n    </tr>\n    <tr>\n      <th>4</th>\n      <td>414.0</td>\n      <td>103.5</td>\n      <td>4.0</td>\n      <td>74.0</td>\n      <td>51.0</td>\n      <td>35.0</td>\n      <td>6.0</td>\n      <td>1936.0</td>\n      <td>1133.0</td>\n      <td>19.0</td>\n      <td>501.0</td>\n      <td>336.0</td>\n      <td>194.0</td>\n      <td>A</td>\n      <td>282.0</td>\n      <td>45.0</td>\n      <td>7.0</td>\n      <td>750.000</td>\n    </tr>\n    <tr>\n      <th>5</th>\n      <td>414.0</td>\n      <td>103.5</td>\n      <td>1.0</td>\n      <td>52.5</td>\n      <td>47.0</td>\n      <td>21.0</td>\n      <td>2.0</td>\n      <td>214.0</td>\n      <td>42.0</td>\n      <td>1.0</td>\n      <td>30.0</td>\n      <td>9.0</td>\n      <td>24.0</td>\n      <td>N</td>\n      <td>76.0</td>\n      <td>127.0</td>\n      <td>7.0</td>\n      <td>70.000</td>\n    </tr>\n    <tr>\n      <th>6</th>\n      <td>298.0</td>\n      <td>73.0</td>\n      <td>9.0</td>\n      <td>52.5</td>\n      <td>24.0</td>\n      <td>37.0</td>\n      <td>3.0</td>\n      <td>509.0</td>\n      <td>108.0</td>\n      <td>0.0</td>\n      <td>41.0</td>\n      <td>37.0</td>\n      <td>12.0</td>\n      <td>A</td>\n      <td>121.0</td>\n      <td>45.0</td>\n      <td>9.0</td>\n      <td>100.000</td>\n    </tr>\n    <tr>\n      <th>7</th>\n      <td>323.0</td>\n      <td>81.0</td>\n      <td>6.0</td>\n      <td>52.5</td>\n      <td>32.0</td>\n      <td>37.0</td>\n      <td>2.0</td>\n      <td>341.0</td>\n      <td>86.0</td>\n      <td>6.0</td>\n      <td>32.0</td>\n      <td>34.0</td>\n      <td>8.0</td>\n      <td>N</td>\n      <td>143.0</td>\n      <td>45.0</td>\n      <td>7.0</td>\n      <td>75.000</td>\n    </tr>\n    <tr>\n      <th>8</th>\n      <td>401.0</td>\n      <td>92.0</td>\n      <td>17.0</td>\n      <td>49.0</td>\n      <td>66.0</td>\n      <td>37.0</td>\n      <td>6.0</td>\n      <td>1936.0</td>\n      <td>517.5</td>\n      <td>40.0</td>\n      <td>256.0</td>\n      <td>239.5</td>\n      <td>174.0</td>\n      <td>A</td>\n      <td>0.0</td>\n      <td>0.0</td>\n      <td>7.0</td>\n      <td>422.500</td>\n    </tr>\n    <tr>\n      <th>9</th>\n      <td>414.0</td>\n      <td>103.5</td>\n      <td>9.0</td>\n      <td>52.5</td>\n      <td>47.0</td>\n      <td>37.0</td>\n      <td>10.0</td>\n      <td>1936.0</td>\n      <td>517.5</td>\n      <td>90.0</td>\n      <td>256.0</td>\n      <td>504.0</td>\n      <td>174.0</td>\n      <td>A</td>\n      <td>238.0</td>\n      <td>45.0</td>\n      <td>7.0</td>\n      <td>517.143</td>\n    </tr>\n  </tbody>\n</table>\n</div>"
     },
     "metadata": {},
     "execution_count": 34
    }
   ],
   "source": [
    "df.head(10)"
   ]
  },
  {
   "cell_type": "code",
   "execution_count": null,
   "metadata": {},
   "outputs": [],
   "source": []
  }
 ]
}