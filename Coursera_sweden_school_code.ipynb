{
 "metadata": {
  "language_info": {
   "codemirror_mode": {
    "name": "ipython",
    "version": 3
   },
   "file_extension": ".py",
   "mimetype": "text/x-python",
   "name": "python",
   "nbconvert_exporter": "python",
   "pygments_lexer": "ipython3",
   "version": "3.8.2-final"
  },
  "orig_nbformat": 2,
  "kernelspec": {
   "name": "python3",
   "display_name": "Python 3"
  }
 },
 "nbformat": 4,
 "nbformat_minor": 2,
 "cells": [
  {
   "source": [
    "# Coursera: Battle of Neighborhoods \n",
    "\n",
    "This notebook is part of IBM Applied Data Science Capstone project\n",
    "\n",
    "I am interested in exploring schools in Sweden. In this notebook I will attempt to scrape school names and addresses from edarabia, request their coordinates, and explore the area with Foursquare API."
   ],
   "cell_type": "markdown",
   "metadata": {}
  },
  {
   "cell_type": "code",
   "execution_count": null,
   "metadata": {},
   "outputs": [],
   "source": [
    "# get drivers ready for selenium scraping\n",
    "from zipfile import ZipFile\n",
    "import wget\n",
    "\n",
    "wget.download('https://github.com/mozilla/geckodriver/releases/download/v0.27.0/geckodriver-v0.27.0-win64.zip', 'gecko.zip')\n",
    "with ZipFile('gecko.zip', 'r') as z: z.extractall('.')\n",
    "\n",
    "# Note: the file had been downloaded from previous project\n",
    "# so I did not run this code."
   ]
  },
  {
   "cell_type": "code",
   "execution_count": 16,
   "metadata": {},
   "outputs": [],
   "source": [
    "# scrape https://www.edarabia.com/schools/sweden/ for Sweden top schools.\n",
    "from selenium import webdriver\n",
    "\n",
    "driver = webdriver.Firefox(executable_path='geckodriver.exe')\n",
    "driver.get('https://www.edarabia.com/schools/sweden/')"
   ]
  },
  {
   "cell_type": "code",
   "execution_count": 12,
   "metadata": {},
   "outputs": [
    {
     "output_type": "stream",
     "name": "stdout",
     "text": [
      "0 \n1 \n2 \n3 \n4 Bladins International School\n5 Deutsche Schule Stockholm\n6 Engelska Skolan Norr AB\n7 Fryshuset School\n8 International IT College of Sweden\n9 Lycee Francais Saint Louis in Stockholm\n10 ProCivitas Private Gymnasium Stockholm\n11 Swedish Finnish School\n12 The Tanto International School\n13 Thea Private Grundskola\n"
     ]
    }
   ],
   "source": [
    "# Upon inspection, school names are part of a hyperlink under <h5> tags\n",
    "links = driver.find_elements_by_xpath('//h5/a')\n",
    "for i, link in enumerate(links):\n",
    "    print(i, link.text)"
   ]
  },
  {
   "cell_type": "code",
   "execution_count": 14,
   "metadata": {},
   "outputs": [
    {
     "output_type": "execute_result",
     "data": {
      "text/plain": [
       "['Bladins International School',\n",
       " 'Deutsche Schule Stockholm',\n",
       " 'Engelska Skolan Norr AB',\n",
       " 'Fryshuset School',\n",
       " 'International IT College of Sweden',\n",
       " 'Lycee Francais Saint Louis in Stockholm',\n",
       " 'ProCivitas Private Gymnasium Stockholm',\n",
       " 'Swedish Finnish School',\n",
       " 'The Tanto International School',\n",
       " 'Thea Private Grundskola']"
      ]
     },
     "metadata": {},
     "execution_count": 14
    }
   ],
   "source": [
    "# there seem to be empty links, lets remove them\n",
    "schools = [link.text for link in links if link.text]\n",
    "schools"
   ]
  },
  {
   "cell_type": "code",
   "execution_count": 17,
   "metadata": {},
   "outputs": [
    {
     "output_type": "stream",
     "name": "stdout",
     "text": [
      "0 \n",
      "1 Universities\n",
      "2 Schools\n",
      "3 Nurseries\n",
      "4 Courses\n",
      "5 Jobs\n",
      "6 Events\n",
      "7 Login\n",
      "8 \n",
      "9 \n",
      "10 \n",
      "11 \n",
      "12 \n",
      "13 \n",
      "14 \n",
      "15 \n",
      "16 \n",
      "17 \n",
      "18 \n",
      "19 \n",
      "20 \n",
      "21 \n",
      "22 \n",
      "23 \n",
      "24 \n",
      "25 \n",
      "26 \n",
      "27 \n",
      "28 \n",
      "29 \n",
      "30 \n",
      "31 \n",
      "32 \n",
      "33 \n",
      "34 \n",
      "35 \n",
      "36 \n",
      "37 \n",
      "38 \n",
      "39 \n",
      "40 \n",
      "41 \n",
      "42 \n",
      "43 \n",
      "44 \n",
      "45 \n",
      "46 \n",
      "47 \n",
      "48 \n",
      "49 \n",
      "50 \n",
      "51 \n",
      "52 \n",
      "53 \n",
      "54 \n",
      "55 Home\n",
      "56 Schools\n",
      "57 Sweden\n",
      "58 Preschool (förskola)\n",
      "59 Compulsory schooling which is made up of Elementary school (lågstadiet), middle school (mellanstadiet) and junior high school (högstadiet).\n",
      "60 Upper secondary school or senior high school (gymnasium)\n",
      "61 Tertiary education\n",
      "62 \n",
      "63 \n",
      "64 \n",
      "65 \n",
      "66 \n",
      "67 \n",
      "68 \n",
      "69 \n",
      "70 \n",
      "71 \n",
      "72 \n",
      "73 \n",
      "74 \n",
      "75 Address: Sjallandstorget 1\n",
      "76 Curriculum: IB\n",
      "77 SEK 23,500\n",
      "78 Address: Karlavagen 25\n",
      "79 Address: Roslagstullsbacken 4\n",
      "80 Founded: 1993\n",
      "81 Address: Martensdalsgatan 2-8\n",
      "82 Founded: 1984\n",
      "83 Address: Halsobrunnsgatan 6\n",
      "84 Founded: 2003\n",
      "85 Address: Essingestraket 24\n",
      "86 Founded: 1959\n",
      "87 Curriculum: French\n",
      "88 SEK 12,375\n",
      "89 Address: Sandbacksgatan 10\n",
      "90 Address: Ryttargatan 275, Planner\n",
      "91 Address: Flintbacken 20\n",
      "92 Founded: 1983\n",
      "93 SEK 44,600\n",
      "94 Address: Tullgardsgatan 10\n",
      "95 About\n",
      "96 Contacts\n",
      "97 Advertise\n",
      "98 Universities\n",
      "99 Directory\n",
      "100 Jobs\n",
      "101 Tutors\n",
      "102 Schools\n",
      "103 Educational Suppliers\n",
      "104 Events\n",
      "105 Education News\n",
      "106 Nurseries\n",
      "107 Courses\n",
      "108 EdTalk\n"
     ]
    }
   ],
   "source": [
    "# Let's see if we can get their address.\n",
    "address = driver.find_elements_by_xpath('//ul/li')\n",
    "for i, addr in enumerate(address):\n",
    "    print(i, addr.text)"
   ]
  },
  {
   "cell_type": "code",
   "execution_count": null,
   "metadata": {},
   "outputs": [],
   "source": [
    "# That should be all the data needed so let's close the driver\n",
    "driver.close()"
   ]
  },
  {
   "source": [
    "# We can isolate the address by looking for string \"Address:\"\n",
    "school_addresses = []\n",
    "for addr in address:\n",
    "    addr = addr.text\n",
    "    if \"Address:\" in addr:\n",
    "        addr.replace('Address: ', '')\n",
    "        # The \", Planner\" in 1 of the addresses is causing problem with geolocation\n",
    "        # so I remove it\n",
    "        addr = addr.split(',')[0]\n",
    "        school_addresses.append(addr.replace('Address: ', ''))\n",
    "school_addresses\n"
   ],
   "cell_type": "code",
   "metadata": {},
   "execution_count": 25,
   "outputs": [
    {
     "output_type": "execute_result",
     "data": {
      "text/plain": [
       "['Sjallandstorget 1',\n",
       " 'Karlavagen 25',\n",
       " 'Roslagstullsbacken 4',\n",
       " 'Martensdalsgatan 2-8',\n",
       " 'Halsobrunnsgatan 6',\n",
       " 'Essingestraket 24',\n",
       " 'Sandbacksgatan 10',\n",
       " 'Ryttargatan 275',\n",
       " 'Flintbacken 20',\n",
       " 'Tullgardsgatan 10']"
      ]
     },
     "metadata": {},
     "execution_count": 25
    }
   ]
  },
  {
   "cell_type": "code",
   "execution_count": 26,
   "metadata": {},
   "outputs": [
    {
     "output_type": "stream",
     "name": "stdout",
     "text": [
      "10\n10\n"
     ]
    }
   ],
   "source": [
    "# check if we get same number of addresses and schools\n",
    "print(len(schools))\n",
    "print(len(school_addresses))"
   ]
  },
  {
   "cell_type": "code",
   "execution_count": 28,
   "metadata": {},
   "outputs": [],
   "source": [
    "# see if we can get coordinates from address\n",
    "from geopy.geocoders import Nominatim\n",
    "\n",
    "geolocator = Nominatim(user_agent='my_agent')\n",
    "lat = []\n",
    "long = []\n",
    "for addr in school_addresses:\n",
    "    loc = geolocator.geocode(f'{addr}, Sweden')\n",
    "    lat.append(loc.latitude)\n",
    "    long.append(loc.longitude)\n"
   ]
  },
  {
   "cell_type": "code",
   "execution_count": 31,
   "metadata": {},
   "outputs": [
    {
     "output_type": "stream",
     "name": "stdout",
     "text": [
      "10\n10\n"
     ]
    }
   ],
   "source": [
    "# check leng of lat and long\n",
    "print(len(lat))\n",
    "print(len(long))"
   ]
  },
  {
   "cell_type": "code",
   "execution_count": 33,
   "metadata": {},
   "outputs": [
    {
     "output_type": "execute_result",
     "data": {
      "text/plain": [
       "                                    School               Address        Lat  \\\n",
       "0             Bladins International School     Sjallandstorget 1  55.592730   \n",
       "1                Deutsche Schule Stockholm         Karlavagen 25  59.345046   \n",
       "2                  Engelska Skolan Norr AB  Roslagstullsbacken 4  59.350678   \n",
       "3                         Fryshuset School  Martensdalsgatan 2-8  59.300544   \n",
       "4       International IT College of Sweden    Halsobrunnsgatan 6  59.337121   \n",
       "5  Lycee Francais Saint Louis in Stockholm     Essingestraket 24  59.319225   \n",
       "6   ProCivitas Private Gymnasium Stockholm     Sandbacksgatan 10  59.316701   \n",
       "7                   Swedish Finnish School       Ryttargatan 275  59.507273   \n",
       "8           The Tanto International School        Flintbacken 20  59.309693   \n",
       "9                  Thea Private Grundskola     Tullgardsgatan 10  59.305603   \n",
       "\n",
       "        Long  \n",
       "0  12.987777  \n",
       "1  18.063079  \n",
       "2  18.059369  \n",
       "3  18.088212  \n",
       "4  18.047313  \n",
       "5  17.989403  \n",
       "6  18.080628  \n",
       "7  17.907965  \n",
       "8  18.049634  \n",
       "9  18.084816  "
      ],
      "text/html": "<div>\n<style scoped>\n    .dataframe tbody tr th:only-of-type {\n        vertical-align: middle;\n    }\n\n    .dataframe tbody tr th {\n        vertical-align: top;\n    }\n\n    .dataframe thead th {\n        text-align: right;\n    }\n</style>\n<table border=\"1\" class=\"dataframe\">\n  <thead>\n    <tr style=\"text-align: right;\">\n      <th></th>\n      <th>School</th>\n      <th>Address</th>\n      <th>Lat</th>\n      <th>Long</th>\n    </tr>\n  </thead>\n  <tbody>\n    <tr>\n      <th>0</th>\n      <td>Bladins International School</td>\n      <td>Sjallandstorget 1</td>\n      <td>55.592730</td>\n      <td>12.987777</td>\n    </tr>\n    <tr>\n      <th>1</th>\n      <td>Deutsche Schule Stockholm</td>\n      <td>Karlavagen 25</td>\n      <td>59.345046</td>\n      <td>18.063079</td>\n    </tr>\n    <tr>\n      <th>2</th>\n      <td>Engelska Skolan Norr AB</td>\n      <td>Roslagstullsbacken 4</td>\n      <td>59.350678</td>\n      <td>18.059369</td>\n    </tr>\n    <tr>\n      <th>3</th>\n      <td>Fryshuset School</td>\n      <td>Martensdalsgatan 2-8</td>\n      <td>59.300544</td>\n      <td>18.088212</td>\n    </tr>\n    <tr>\n      <th>4</th>\n      <td>International IT College of Sweden</td>\n      <td>Halsobrunnsgatan 6</td>\n      <td>59.337121</td>\n      <td>18.047313</td>\n    </tr>\n    <tr>\n      <th>5</th>\n      <td>Lycee Francais Saint Louis in Stockholm</td>\n      <td>Essingestraket 24</td>\n      <td>59.319225</td>\n      <td>17.989403</td>\n    </tr>\n    <tr>\n      <th>6</th>\n      <td>ProCivitas Private Gymnasium Stockholm</td>\n      <td>Sandbacksgatan 10</td>\n      <td>59.316701</td>\n      <td>18.080628</td>\n    </tr>\n    <tr>\n      <th>7</th>\n      <td>Swedish Finnish School</td>\n      <td>Ryttargatan 275</td>\n      <td>59.507273</td>\n      <td>17.907965</td>\n    </tr>\n    <tr>\n      <th>8</th>\n      <td>The Tanto International School</td>\n      <td>Flintbacken 20</td>\n      <td>59.309693</td>\n      <td>18.049634</td>\n    </tr>\n    <tr>\n      <th>9</th>\n      <td>Thea Private Grundskola</td>\n      <td>Tullgardsgatan 10</td>\n      <td>59.305603</td>\n      <td>18.084816</td>\n    </tr>\n  </tbody>\n</table>\n</div>"
     },
     "metadata": {},
     "execution_count": 33
    }
   ],
   "source": [
    "# All lists contain same number of elements\n",
    "# We can zip them and create dataframe\n",
    "import pandas as pd\n",
    "\n",
    "df = pd.DataFrame(zip(schools, school_addresses, lat, long), columns=['School','Address','Lat','Long'])"
   ]
  },
  {
   "cell_type": "code",
   "execution_count": 10,
   "metadata": {},
   "outputs": [
    {
     "output_type": "execute_result",
     "data": {
      "text/plain": [
       "['Malmoe',\n",
       " 'Stockholm',\n",
       " 'Stockholm',\n",
       " 'Arsta',\n",
       " 'Stockholm',\n",
       " 'Solna',\n",
       " 'Stockholm',\n",
       " 'Upplands Vaesby',\n",
       " 'Arsta',\n",
       " 'OEstermalm']"
      ]
     },
     "metadata": {},
     "execution_count": 10
    }
   ],
   "source": [
    "# let's see if we can get the city name\n",
    "import reverse_geocoder as rg\n",
    "\n",
    "cities = [each['name'] for each in rg.search(list(zip(df['Lat'],df['Long'])))]\n",
    "cities"
   ]
  },
  {
   "cell_type": "code",
   "execution_count": 11,
   "metadata": {},
   "outputs": [
    {
     "output_type": "execute_result",
     "data": {
      "text/plain": [
       "                               School               Address        Lat  \\\n",
       "0        Bladins International School     Sjallandstorget 1  55.592730   \n",
       "1           Deutsche Schule Stockholm         Karlavagen 25  59.345046   \n",
       "2             Engelska Skolan Norr AB  Roslagstullsbacken 4  59.350678   \n",
       "3                    Fryshuset School  Martensdalsgatan 2-8  59.300544   \n",
       "4  International IT College of Sweden    Halsobrunnsgatan 6  59.337121   \n",
       "\n",
       "        Long       City  \n",
       "0  12.987777     Malmoe  \n",
       "1  18.063079  Stockholm  \n",
       "2  18.059369  Stockholm  \n",
       "3  18.088212      Arsta  \n",
       "4  18.047313  Stockholm  "
      ],
      "text/html": "<div>\n<style scoped>\n    .dataframe tbody tr th:only-of-type {\n        vertical-align: middle;\n    }\n\n    .dataframe tbody tr th {\n        vertical-align: top;\n    }\n\n    .dataframe thead th {\n        text-align: right;\n    }\n</style>\n<table border=\"1\" class=\"dataframe\">\n  <thead>\n    <tr style=\"text-align: right;\">\n      <th></th>\n      <th>School</th>\n      <th>Address</th>\n      <th>Lat</th>\n      <th>Long</th>\n      <th>City</th>\n    </tr>\n  </thead>\n  <tbody>\n    <tr>\n      <th>0</th>\n      <td>Bladins International School</td>\n      <td>Sjallandstorget 1</td>\n      <td>55.592730</td>\n      <td>12.987777</td>\n      <td>Malmoe</td>\n    </tr>\n    <tr>\n      <th>1</th>\n      <td>Deutsche Schule Stockholm</td>\n      <td>Karlavagen 25</td>\n      <td>59.345046</td>\n      <td>18.063079</td>\n      <td>Stockholm</td>\n    </tr>\n    <tr>\n      <th>2</th>\n      <td>Engelska Skolan Norr AB</td>\n      <td>Roslagstullsbacken 4</td>\n      <td>59.350678</td>\n      <td>18.059369</td>\n      <td>Stockholm</td>\n    </tr>\n    <tr>\n      <th>3</th>\n      <td>Fryshuset School</td>\n      <td>Martensdalsgatan 2-8</td>\n      <td>59.300544</td>\n      <td>18.088212</td>\n      <td>Arsta</td>\n    </tr>\n    <tr>\n      <th>4</th>\n      <td>International IT College of Sweden</td>\n      <td>Halsobrunnsgatan 6</td>\n      <td>59.337121</td>\n      <td>18.047313</td>\n      <td>Stockholm</td>\n    </tr>\n  </tbody>\n</table>\n</div>"
     },
     "metadata": {},
     "execution_count": 11
    }
   ],
   "source": [
    "# add cities as a column into our df\n",
    "df['City'] = cities\n",
    "df.head()"
   ]
  },
  {
   "cell_type": "code",
   "execution_count": 22,
   "metadata": {},
   "outputs": [],
   "source": [
    "# Save the dataframe for future session\n",
    "df.to_csv('schools_city.csv', index=False)"
   ]
  },
  {
   "cell_type": "code",
   "execution_count": 1,
   "metadata": {},
   "outputs": [
    {
     "output_type": "execute_result",
     "data": {
      "text/plain": [
       "                               School               Address        Lat  \\\n",
       "0        Bladins International School     Sjallandstorget 1  55.592730   \n",
       "1           Deutsche Schule Stockholm         Karlavagen 25  59.345046   \n",
       "2             Engelska Skolan Norr AB  Roslagstullsbacken 4  59.350678   \n",
       "3                    Fryshuset School  Martensdalsgatan 2-8  59.300544   \n",
       "4  International IT College of Sweden    Halsobrunnsgatan 6  59.337121   \n",
       "\n",
       "        Long       City  \n",
       "0  12.987777     Malmoe  \n",
       "1  18.063079  Stockholm  \n",
       "2  18.059369  Stockholm  \n",
       "3  18.088212      Arsta  \n",
       "4  18.047313  Stockholm  "
      ],
      "text/html": "<div>\n<style scoped>\n    .dataframe tbody tr th:only-of-type {\n        vertical-align: middle;\n    }\n\n    .dataframe tbody tr th {\n        vertical-align: top;\n    }\n\n    .dataframe thead th {\n        text-align: right;\n    }\n</style>\n<table border=\"1\" class=\"dataframe\">\n  <thead>\n    <tr style=\"text-align: right;\">\n      <th></th>\n      <th>School</th>\n      <th>Address</th>\n      <th>Lat</th>\n      <th>Long</th>\n      <th>City</th>\n    </tr>\n  </thead>\n  <tbody>\n    <tr>\n      <th>0</th>\n      <td>Bladins International School</td>\n      <td>Sjallandstorget 1</td>\n      <td>55.592730</td>\n      <td>12.987777</td>\n      <td>Malmoe</td>\n    </tr>\n    <tr>\n      <th>1</th>\n      <td>Deutsche Schule Stockholm</td>\n      <td>Karlavagen 25</td>\n      <td>59.345046</td>\n      <td>18.063079</td>\n      <td>Stockholm</td>\n    </tr>\n    <tr>\n      <th>2</th>\n      <td>Engelska Skolan Norr AB</td>\n      <td>Roslagstullsbacken 4</td>\n      <td>59.350678</td>\n      <td>18.059369</td>\n      <td>Stockholm</td>\n    </tr>\n    <tr>\n      <th>3</th>\n      <td>Fryshuset School</td>\n      <td>Martensdalsgatan 2-8</td>\n      <td>59.300544</td>\n      <td>18.088212</td>\n      <td>Arsta</td>\n    </tr>\n    <tr>\n      <th>4</th>\n      <td>International IT College of Sweden</td>\n      <td>Halsobrunnsgatan 6</td>\n      <td>59.337121</td>\n      <td>18.047313</td>\n      <td>Stockholm</td>\n    </tr>\n  </tbody>\n</table>\n</div>"
     },
     "metadata": {},
     "execution_count": 1
    }
   ],
   "source": [
    "import pandas as pd\n",
    "df = pd.read_csv('schools_city.csv')\n",
    "df.head()"
   ]
  },
  {
   "cell_type": "code",
   "execution_count": 3,
   "metadata": {},
   "outputs": [
    {
     "output_type": "execute_result",
     "data": {
      "text/plain": [
       "<folium.folium.Map at 0x215a37592e0>"
      ],
      "text/html": "<div style=\"width:100%;\"><div style=\"position:relative;width:100%;height:0;padding-bottom:60%;\"><span style=\"color:#565656\">Make this Notebook Trusted to load map: File -> Trust Notebook</span><iframe src=\"about:blank\" style=\"position:absolute;width:100%;height:100%;left:0;top:0;border:none !important;\" data-html=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 onload=\"this.contentDocument.open();this.contentDocument.write(atob(this.getAttribute('data-html')));this.contentDocument.close();\" allowfullscreen webkitallowfullscreen mozallowfullscreen></iframe></div></div>"
     },
     "metadata": {},
     "execution_count": 3
    }
   ],
   "source": [
    "# let's visualize the location with folium\n",
    "import folium\n",
    "\n",
    "latitude = df.Lat.mean()\n",
    "longitude = df.Long.mean()\n",
    "map = folium.Map(location=[latitude, longitude], zoom_start=5)\n",
    "for lat, lng, school, city in zip(df['Lat'], df['Long'], df['School'], df['City']):\n",
    "    label = folium.Popup(f'{school}, {city}', parse_html=True)\n",
    "    folium.CircleMarker(\n",
    "        [lat, lng],\n",
    "        radius=5,\n",
    "        popup=label,\n",
    "        color='blue',\n",
    "        fill=True,\n",
    "        fill_color='#3186cc',\n",
    "        fill_opacity=0.7,\n",
    "        parse_html=False).add_to(map)\n",
    "map"
   ]
  },
  {
   "source": [
    "From the map, most schools cluster around Stockholm. With a few in Arsta, Solna, Upplands Vaesby, and 1 in the distance Malmoe. I will narrow my exploration down to these 5, create new dataframe and assign mean coordinate values from previous dataframe"
   ],
   "cell_type": "markdown",
   "metadata": {}
  },
  {
   "cell_type": "code",
   "execution_count": 2,
   "metadata": {},
   "outputs": [
    {
     "output_type": "execute_result",
     "data": {
      "text/plain": [
       "              City        Lat       Long\n",
       "0        Stockholm  59.337386  18.062597\n",
       "1            Arsta  59.305118  18.068923\n",
       "2            Solna  59.319225  17.989403\n",
       "3  Upplands Vaesby  59.507273  17.907965\n",
       "4           Malmoe  55.592730  12.987777"
      ],
      "text/html": "<div>\n<style scoped>\n    .dataframe tbody tr th:only-of-type {\n        vertical-align: middle;\n    }\n\n    .dataframe tbody tr th {\n        vertical-align: top;\n    }\n\n    .dataframe thead th {\n        text-align: right;\n    }\n</style>\n<table border=\"1\" class=\"dataframe\">\n  <thead>\n    <tr style=\"text-align: right;\">\n      <th></th>\n      <th>City</th>\n      <th>Lat</th>\n      <th>Long</th>\n    </tr>\n  </thead>\n  <tbody>\n    <tr>\n      <th>0</th>\n      <td>Stockholm</td>\n      <td>59.337386</td>\n      <td>18.062597</td>\n    </tr>\n    <tr>\n      <th>1</th>\n      <td>Arsta</td>\n      <td>59.305118</td>\n      <td>18.068923</td>\n    </tr>\n    <tr>\n      <th>2</th>\n      <td>Solna</td>\n      <td>59.319225</td>\n      <td>17.989403</td>\n    </tr>\n    <tr>\n      <th>3</th>\n      <td>Upplands Vaesby</td>\n      <td>59.507273</td>\n      <td>17.907965</td>\n    </tr>\n    <tr>\n      <th>4</th>\n      <td>Malmoe</td>\n      <td>55.592730</td>\n      <td>12.987777</td>\n    </tr>\n  </tbody>\n</table>\n</div>"
     },
     "metadata": {},
     "execution_count": 2
    }
   ],
   "source": [
    "cities_of_interest = ['Stockholm', 'Arsta', 'Solna', 'Upplands Vaesby', 'Malmoe']\n",
    "lat = []\n",
    "long = []\n",
    "for city in cities_of_interest:\n",
    "    lat.append(df[df['City'].str.contains(city)].Lat.mean())\n",
    "    long.append(df[df['City'].str.contains(city)].Long.mean())\n",
    "df_city = pd.DataFrame(zip(cities_of_interest, lat, long), columns=['City', 'Lat', 'Long'])\n",
    "df_city\n"
   ]
  },
  {
   "cell_type": "code",
   "execution_count": 3,
   "metadata": {},
   "outputs": [
    {
     "output_type": "execute_result",
     "data": {
      "text/plain": [
       "<folium.folium.Map at 0x219c441ea30>"
      ],
      "text/html": "<div style=\"width:100%;\"><div style=\"position:relative;width:100%;height:0;padding-bottom:60%;\"><span style=\"color:#565656\">Make this Notebook Trusted to load map: File -> Trust Notebook</span><iframe src=\"about:blank\" style=\"position:absolute;width:100%;height:100%;left:0;top:0;border:none !important;\" data-html=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 onload=\"this.contentDocument.open();this.contentDocument.write(atob(this.getAttribute('data-html')));this.contentDocument.close();\" allowfullscreen webkitallowfullscreen mozallowfullscreen></iframe></div></div>"
     },
     "metadata": {},
     "execution_count": 3
    }
   ],
   "source": [
    "import folium\n",
    "\n",
    "latitude = df_city.Lat.mean()\n",
    "longitude = df_city.Long.mean()\n",
    "map = folium.Map(location=[latitude, longitude], zoom_start=5)\n",
    "for lat, lng, city in zip(df_city['Lat'], df_city['Long'], df_city['City']):\n",
    "    label = folium.Popup(f'{city}', parse_html=True)\n",
    "    folium.CircleMarker(\n",
    "        [lat, lng],\n",
    "        radius=5,\n",
    "        popup=label,\n",
    "        color='blue',\n",
    "        fill=True,\n",
    "        fill_color='#3186cc',\n",
    "        fill_opacity=0.7,\n",
    "        parse_html=False).add_to(map)\n",
    "map"
   ]
  },
  {
   "source": [
    "Stockholm, Arsta and Solna are quite close to each other, I will narrow the radius of their venue search to 10Km while the other 2 we can search as wide as 20Km without over lapping."
   ],
   "cell_type": "markdown",
   "metadata": {}
  },
  {
   "cell_type": "code",
   "execution_count": 4,
   "metadata": {},
   "outputs": [],
   "source": [
    "# fsquare credentials in text file for security.1\n",
    "f = open('fsquare.txt', 'r')\n",
    "ID, SECRET = f.readlines()\n",
    "ID = ID.rstrip()\n",
    "SECRET = SECRET.rstrip()\n",
    "VERSION = '20201101'"
   ]
  },
  {
   "source": [
    "I want to see what the data looks like. Requesting Foursquare API and saving data to json files."
   ],
   "cell_type": "markdown",
   "metadata": {}
  },
  {
   "cell_type": "code",
   "execution_count": 7,
   "metadata": {},
   "outputs": [],
   "source": [
    "import requests\n",
    "import json\n",
    "\n",
    "for city in cities_of_interest:\n",
    "    radius = 10000 if city in ['Stockholm', 'Arsta', 'Solna'] else 20000\n",
    "    query = f'https://api.foursquare.com/v2/venues/explore?&client_id={ID}&client_secret={SECRET}&near={city},Sweden&radius={radius}&limit=200&v={VERSION}'\n",
    "    results = requests.get(query).json()\n",
    "    with open(f'{city}.json', 'w') as c:\n",
    "        json.dump(results, c, indent=4)\n"
   ]
  },
  {
   "source": [
    "Counting venues of interest. For a city best suitable for raising children I want lots pf parks and if possible sport centers. Having Asian food and Thai food would be big plus."
   ],
   "cell_type": "markdown",
   "metadata": {}
  },
  {
   "cell_type": "code",
   "execution_count": 19,
   "metadata": {
    "tags": []
   },
   "outputs": [
    {
     "output_type": "stream",
     "name": "stdout",
     "text": [
      "[0, 1, 0, 2, 0]\n"
     ]
    }
   ],
   "source": [
    "gyms = []\n",
    "asian_foods = []\n",
    "thai_foods = []\n",
    "steaks = []\n",
    "parks = []\n",
    "bookstores = []\n",
    "\n",
    "for city in cities_of_interest:\n",
    "    with open(f'{city}.json', 'r') as c:\n",
    "        data = json.load(c)\n",
    "    data = data['response']['groups'][0]['items']\n",
    "    gyms.append(sum(1 for d in data if '/gym' in d['venue']['categories'][0]['icon']['prefix']))\n",
    "    parks.append(sum(1 for d in data if '/park' in d['venue']['categories'][0]['icon']['prefix']))\n",
    "    # trying to combine all Asian food into 1 count based on json file exploration\n",
    "    asian_foods.append(sum(1 for d in data \n",
    "        if '/food/asian' in d['venue']['categories'][0]['icon']['prefix'] \n",
    "        or '/food/sushi' in d['venue']['categories'][0]['icon']['prefix']\n",
    "        or '/food/korean' in d['venue']['categories'][0]['icon']['prefix']\n",
    "        or '/food/vietnam' in d['venue']['categories'][0]['icon']['prefix']\n",
    "        or '/food/ramen' in d['venue']['categories'][0]['icon']['prefix']\n",
    "    ))\n",
    "    thai_foods.append(sum(1 for d in data if '/food/thai' in d['venue']['categories'][0]['icon']['prefix']))\n",
    "    steaks.append(sum(1 for d in data if '/food/steak' in d['venue']['categories'][0]['icon']['prefix']))\n",
    "    bookstores.append(sum(1 for d in data if 'bookstore' in d['venue']['categories'][0]['icon']['prefix']))\n",
    "print(thai_foods)"
   ]
  },
  {
   "cell_type": "code",
   "execution_count": null,
   "metadata": {},
   "outputs": [],
   "source": []
  }
 ]
}