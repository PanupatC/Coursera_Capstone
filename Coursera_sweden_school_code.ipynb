{
 "metadata": {
  "language_info": {
   "codemirror_mode": {
    "name": "ipython",
    "version": 3
   },
   "file_extension": ".py",
   "mimetype": "text/x-python",
   "name": "python",
   "nbconvert_exporter": "python",
   "pygments_lexer": "ipython3",
   "version": "3.8.2-final"
  },
  "orig_nbformat": 2,
  "kernelspec": {
   "name": "python3",
   "display_name": "Python 3"
  }
 },
 "nbformat": 4,
 "nbformat_minor": 2,
 "cells": [
  {
   "source": [
    "https://www.edarabia.com/schools/sweden/\n",
    "\n",
    "scrape this for school list"
   ],
   "cell_type": "markdown",
   "metadata": {}
  },
  {
   "cell_type": "code",
   "execution_count": null,
   "metadata": {},
   "outputs": [],
   "source": [
    "# get drivers ready for selenium scraping\n",
    "from zipfile import ZipFile\n",
    "import wget\n",
    "\n",
    "wget.download('https://github.com/mozilla/geckodriver/releases/download/v0.27.0/geckodriver-v0.27.0-win64.zip', 'gecko.zip')\n",
    "with ZipFile('gecko.zip', 'r') as z: z.extractall('.')"
   ]
  },
  {
   "cell_type": "code",
   "execution_count": 2,
   "metadata": {},
   "outputs": [],
   "source": [
    "# scrape https://www.edarabia.com/schools/sweden/ for top schools of sweden\n",
    "from selenium import webdriver\n",
    "\n",
    "driver = webdriver.Firefox(executable_path='geckodriver.exe')\n",
    "driver.get('https://www.edarabia.com/schools/sweden/')"
   ]
  },
  {
   "cell_type": "code",
   "execution_count": 12,
   "metadata": {},
   "outputs": [
    {
     "output_type": "stream",
     "name": "stdout",
     "text": [
      "0 \n1 \n2 \n3 \n4 Bladins International School\n5 Deutsche Schule Stockholm\n6 Engelska Skolan Norr AB\n7 Fryshuset School\n8 International IT College of Sweden\n9 Lycee Francais Saint Louis in Stockholm\n10 ProCivitas Private Gymnasium Stockholm\n11 Swedish Finnish School\n12 The Tanto International School\n13 Thea Private Grundskola\n"
     ]
    }
   ],
   "source": [
    "# Upon inspection, school names are part of a hyperlink under <h5> tags\n",
    "links = driver.find_elements_by_xpath('//h5/a')\n",
    "for i, link in enumerate(links):\n",
    "    print(i, link.text)"
   ]
  },
  {
   "cell_type": "code",
   "execution_count": 14,
   "metadata": {},
   "outputs": [
    {
     "output_type": "execute_result",
     "data": {
      "text/plain": [
       "['Bladins International School',\n",
       " 'Deutsche Schule Stockholm',\n",
       " 'Engelska Skolan Norr AB',\n",
       " 'Fryshuset School',\n",
       " 'International IT College of Sweden',\n",
       " 'Lycee Francais Saint Louis in Stockholm',\n",
       " 'ProCivitas Private Gymnasium Stockholm',\n",
       " 'Swedish Finnish School',\n",
       " 'The Tanto International School',\n",
       " 'Thea Private Grundskola']"
      ]
     },
     "metadata": {},
     "execution_count": 14
    }
   ],
   "source": [
    "# there seem to be empty links, lets remove that\n",
    "schools = [link.text for link in links if link.text]\n",
    "schools"
   ]
  },
  {
   "cell_type": "code",
   "execution_count": null,
   "metadata": {},
   "outputs": [],
   "source": []
  }
 ]
}